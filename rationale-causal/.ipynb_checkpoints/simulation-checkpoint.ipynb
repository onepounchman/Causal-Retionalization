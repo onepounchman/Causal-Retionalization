{
 "cells": [
  {
   "cell_type": "code",
   "execution_count": 4,
   "metadata": {},
   "outputs": [],
   "source": [
    "import argparse\n",
    "import numpy as np\n",
    "import pandas as pd\n",
    "import time\n",
    "import random\n",
    "import os\n",
    "import sys\n",
    "\n",
    "import numpy.random as npr\n",
    "\n",
    "from sklearn.linear_model import LinearRegression, Ridge ,LogisticRegression\n",
    "from sklearn.decomposition import PCA\n",
    "from numpy.linalg import cond\n",
    "\n",
    "import torch\n",
    "import torch.nn.functional as F\n",
    "import torch.optim as optim\n",
    "from torchvision import datasets, transforms\n",
    "from torch import nn, optim, autograd\n",
    "from torch.autograd import Variable\n",
    "\n",
    "import itertools\n",
    "#from utils import cov"
   ]
  },
  {
   "cell_type": "code",
   "execution_count": 5,
   "metadata": {},
   "outputs": [],
   "source": [
    "\n",
    "\n",
    "\n",
    "def simulate(D,corr,N,seed):\n",
    "\n",
    "    mean = np.zeros(D)\n",
    "\n",
    "    num_corefea = np.int(D/2)\n",
    "    true_cause = np.arange(num_corefea).astype(int)\n",
    "\n",
    "\n",
    "    np.random.seed(seed)\n",
    "    # simulate strongly correlated features for training\n",
    "    train_cov = np.ones((D, D)) * corr + np.eye(D) * (1 - corr)\n",
    "    train_x_true = npr.multivariate_normal(mean, train_cov, size=N)\n",
    "\n",
    "    # simulate weakly correlated features for testing\n",
    "    test_cov = np.ones((D, D)) * (1 - corr) + np.eye(D) * corr\n",
    "    testobs_x_true = npr.multivariate_normal(mean, train_cov, size=N)\n",
    "    testct_x_true = npr.multivariate_normal(mean, test_cov, size=N)\n",
    "\n",
    "    # add observation noise to the x\n",
    "    # spurious correlation more often occurs when the signal to noise ratio is lower\n",
    "    x_noise = np.array(list(np.ones(num_corefea)*0.3) + list(np.ones(D-num_corefea)*0.2))\n",
    "\n",
    "    train_x = train_x_true + x_noise * npr.normal(size=[N,D])\n",
    "    testobs_x = testobs_x_true + x_noise * npr.normal(size=[N,D])\n",
    "    testct_x = testct_x_true + x_noise * npr.normal(size=[N,D])\n",
    "\n",
    "    #print(\"\\ntrain X correlation\\n\", np.corrcoef(train_x.T))\n",
    "    #print(\"\\ntest X correlation\\n\",np.corrcoef(testct_x.T))\n",
    "\n",
    "    # generate outcome\n",
    "    # toy model y = x + noise\n",
    "\n",
    "    #print(np.sum(np.isnan(train_x_true[:,true_cause].dot(truecoeff))))\n",
    "    truecoeff = npr.uniform(size=num_corefea) * 10 \n",
    "\n",
    "\n",
    "    train_z=train_x_true[:,true_cause].dot(truecoeff)\n",
    "    testobs_z=testobs_x_true[:,true_cause].dot(truecoeff)\n",
    "    testct_z=testct_x_true[:,true_cause].dot(truecoeff)\n",
    "\n",
    "    train_p=np.exp(train_z)/(1+np.exp(train_z))\n",
    "    testobs_p=np.exp(testobs_z)/(1+np.exp(testobs_z))\n",
    "    testct_p=np.exp(testct_z)/(1+np.exp(testct_z))\n",
    "\n",
    "\n",
    "    train_y = np.random.binomial(1,p=train_p)\n",
    "    testobs_y = np.random.binomial(1,p=testobs_p)\n",
    "    testct_y = np.random.binomial(1,p=testct_p)\n",
    "    \n",
    "    dataset = {'train_x':train_x,'testobs_x':testobs_x,'testct_x':testct_x,\n",
    "               'train_y':train_y,'testobs_y':testobs_y,'testct_y':testct_y,\n",
    "              'truecoeff':truecoeff}\n",
    "    #print(np.sum(train_y))\n",
    "    #print(np.sum(testobs_y))\n",
    "    #print(np.sum(testct_y))\n",
    "    return dataset\n",
    "\n",
    "\n",
    "#print(\"\\ntrain X correlation\\n\", np.corrcoef(train_x.T))\n",
    "#print(\"\\ntest X correlation\\n\",np.corrcoef(testct_x.T))\n",
    "\n"
   ]
  },
  {
   "cell_type": "code",
   "execution_count": 556,
   "metadata": {},
   "outputs": [],
   "source": [
    "def simulate_3(D,corr,N,seed):\n",
    "\n",
    "    mean = np.zeros(D)\n",
    "\n",
    "    num_corefea = np.int(D/2)\n",
    "    true_cause = np.arange(num_corefea).astype(int)\n",
    "\n",
    "\n",
    "    np.random.seed(seed)\n",
    "    # simulate strongly correlated features for training\n",
    "    train_cov = np.ones((D, D)) * corr + np.eye(D) * (1 - corr)\n",
    "    train_cov[0,1]=0.5\n",
    "    train_cov[1,0]=0.5\n",
    "    \n",
    "    train_x_true = npr.multivariate_normal(mean, train_cov, size=N)\n",
    "    \n",
    "    # simulate weakly correlated features for testing\n",
    "    test_cov = np.ones((D, D)) * (1 - corr) + np.eye(D) * corr\n",
    "    test_cov[0,1]=0.5\n",
    "    test_cov[1,0]=0.5\n",
    "    testobs_x_true = npr.multivariate_normal(mean, train_cov, size=N)\n",
    "    testct_x_true = npr.multivariate_normal(mean, test_cov, size=N)\n",
    "\n",
    "    # add observation noise to the x\n",
    "    # spurious correlation more often occurs when the signal to noise ratio is lower\n",
    "    x_noise = np.array(list(np.ones(num_corefea)*0.01) + list(np.ones(D-num_corefea)*0.01))\n",
    "    \n",
    "    #train_x_true[:,0]=train_x_true[:,1]\n",
    "    #testobs_x_true[:,0]=testobs_x_true[:,1]\n",
    "    #testct_x_true[:,0]=testct_x_true[:,1]\n",
    "    \n",
    "    \n",
    "    train_x = train_x_true + x_noise * npr.normal(size=[N,D])\n",
    "    testobs_x = testobs_x_true + x_noise * npr.normal(size=[N,D])\n",
    "    testct_x = testct_x_true + x_noise * npr.normal(size=[N,D])\n",
    "\n",
    "    #print(\"\\ntrain X correlation\\n\", np.corrcoef(train_x.T))\n",
    "    #print(\"\\ntest X correlation\\n\",np.corrcoef(testct_x.T))\n",
    "\n",
    "    # generate outcome\n",
    "    # toy model y = x + noise\n",
    "\n",
    "    #print(np.sum(np.isnan(train_x_true[:,true_cause].dot(truecoeff))))\n",
    "    #truecoeff = npr.uniform(size=num_corefea) * 10 \n",
    "    #truecoeff=[-1,2]\n",
    "    truecoeff = npr.normal(size=num_corefea) * 20\n",
    "    print(truecoeff)\n",
    "    #*np.array([[1/2,1]])\n",
    "\n",
    "\n",
    "    train_z=train_x_true[:,true_cause].dot(truecoeff)\n",
    "    testobs_z=testobs_x_true[:,true_cause].dot(truecoeff)\n",
    "    testct_z=testct_x_true[:,true_cause].dot(truecoeff)\n",
    "\n",
    "    train_p=np.exp(train_z)/(1+np.exp(train_z))\n",
    "    testobs_p=np.exp(testobs_z)/(1+np.exp(testobs_z))\n",
    "    testct_p=np.exp(testct_z)/(1+np.exp(testct_z))\n",
    "\n",
    "\n",
    "    train_y = np.random.binomial(1,p=train_p)\n",
    "    testobs_y = np.random.binomial(1,p=testobs_p)\n",
    "    testct_y = np.random.binomial(1,p=testct_p)\n",
    "    \n",
    "    dataset = {'train_x':train_x,'testobs_x':testobs_x,'testct_x':testct_x,\n",
    "               'train_y':train_y,'testobs_y':testobs_y,'testct_y':testct_y,\n",
    "              'truecoeff':truecoeff}\n",
    "    #print(np.sum(train_y))\n",
    "    #print(np.sum(testobs_y))\n",
    "    #print(np.sum(testct_y))\n",
    "    return dataset\n",
    "\n",
    "\n",
    "#print(\"\\ntrain X correlation\\n\", np.corrcoef(train_x.T))\n",
    "#print(\"\\ntest X correlation\\n\",np.corrcoef(testct_x.T))"
   ]
  },
  {
   "cell_type": "code",
   "execution_count": 725,
   "metadata": {},
   "outputs": [],
   "source": [
    "def simulate_4(D,corr,N,seed,truecoeff):\n",
    "\n",
    "    mean = np.zeros(D)\n",
    "\n",
    "    num_corefea = np.int(D/2)\n",
    "    true_cause = np.arange(num_corefea).astype(int)\n",
    "\n",
    "\n",
    "    np.random.seed(seed)\n",
    "    # simulate strongly correlated features for training\n",
    "    train_cov = np.ones((D, D)) * corr + np.eye(D) * (1 - corr)\n",
    "\n",
    "    \n",
    "    train_x_true = npr.multivariate_normal(mean, train_cov, size=N)\n",
    "    \n",
    "    # simulate weakly correlated features for testing\n",
    "    test_cov = np.ones((D, D)) * (1 - corr) + np.eye(D) * corr\n",
    "    \n",
    "    #train_cov[0,1]=0.5\n",
    "    #train_cov[1,0]=0.5\n",
    "    \n",
    "    #test_cov[0,1]=0.5\n",
    "    #test_cov[1,0]=0.5\n",
    "    \n",
    "    testobs_x_true = npr.multivariate_normal(mean, train_cov, size=N)\n",
    "    testct_x_true = npr.multivariate_normal(mean, test_cov, size=N)\n",
    "\n",
    "    # add observation noise to the x\n",
    "    # spurious correlation more often occurs when the signal to noise ratio is lower\n",
    "    x_noise = np.array(list(np.ones(num_corefea)*0.3) + list(np.ones(D-num_corefea)*0.3))\n",
    "    \n",
    "\n",
    "    train_x_true[:,2]=np.exp(train_x_true[:,1].copy())+np.random.normal(0,0.1,train_x_true.shape[0])\n",
    "    testobs_x_true[:,2]=np.exp(testobs_x_true[:,1].copy())+np.random.normal(0,0.1,train_x_true.shape[0])\n",
    "    testct_x_true[:,2]=5/np.exp(testct_x_true[:,1].copy())+np.random.normal(2,0.1,train_x_true.shape[0])\n",
    "    \n",
    "    train_x_true[:,3]=np.exp(train_x_true[:,0].copy())+np.random.normal(0,0.1,train_x_true.shape[0])\n",
    "    testobs_x_true[:,3]=np.exp(testobs_x_true[:,0].copy())+np.random.normal(0,0.1,train_x_true.shape[0])\n",
    "    testct_x_true[:,3]=5/np.exp(testct_x_true[:,0].copy())+np.random.normal(2,0.1,train_x_true.shape[0])\n",
    "    \n",
    "    \n",
    "    train_x = train_x_true + x_noise * npr.normal(size=[N,D])\n",
    "    testobs_x = testobs_x_true + x_noise * npr.normal(size=[N,D])\n",
    "    testct_x = testct_x_true + x_noise * npr.normal(size=[N,D])\n",
    "\n",
    "    #print(\"\\ntrain X correlation\\n\", np.corrcoef(train_x.T))\n",
    "    #print(\"\\ntest X correlation\\n\",np.corrcoef(testct_x.T))\n",
    "\n",
    "    # generate outcome\n",
    "    # toy model y = x + noise\n",
    "\n",
    "    #print(np.sum(np.isnan(train_x_true[:,true_cause].dot(truecoeff))))\n",
    "    #truecoeff = npr.uniform(size=num_corefea) * 10 \n",
    "    #truecoeff=[-1,2]\n",
    "    \n",
    "    #truecoeff = npr.normal(size=num_corefea) * 1\n",
    "    #truecoeff = np.concatenate([npr.uniform(-1,0,1),npr.uniform(0,1,1)])\n",
    "    #print(truecoeff)\n",
    "    #*np.array([[1/2,1]])\n",
    "\n",
    "    intercept=0#*npr.normal(size=1) \n",
    "    train_z=intercept+train_x_true[:,true_cause].dot(truecoeff)\n",
    "    testobs_z=intercept+testobs_x_true[:,true_cause].dot(truecoeff)\n",
    "    testct_z=intercept+testct_x_true[:,true_cause].dot(truecoeff)\n",
    "\n",
    "    train_p=np.exp(train_z)/(1+np.exp(train_z))\n",
    "    testobs_p=np.exp(testobs_z)/(1+np.exp(testobs_z))\n",
    "    testct_p=np.exp(testct_z)/(1+np.exp(testct_z))\n",
    "\n",
    "    #train_y = np.where(train_p>=0.5,1,0)\n",
    "    #testobs_y = np.where(testobs_p>=0.5,1,0)\n",
    "    #testct_y = np.where(testct_p>=0.5,1,0)\n",
    "    train_y = np.random.binomial(1,p=train_p)\n",
    "    testobs_y = np.random.binomial(1,p=testobs_p)\n",
    "    testct_y = np.random.binomial(1,p=testct_p)\n",
    "    \n",
    "    dataset = {'train_x':train_x,'testobs_x':testobs_x,'testct_x':testct_x,\n",
    "               'train_y':train_y,'testobs_y':testobs_y,'testct_y':testct_y,\n",
    "              'truecoeff':truecoeff}\n",
    "    #print(np.sum(train_y))\n",
    "    #print(np.sum(testobs_y))\n",
    "    #print(np.sum(testct_y))\n",
    "    return dataset\n",
    "\n",
    "\n",
    "#print(\"\\ntrain X correlation\\n\", np.corrcoef(train_x.T))\n",
    "#print(\"\\ntest X correlation\\n\",np.corrcoef(testct_x.T))"
   ]
  },
  {
   "cell_type": "code",
   "execution_count": null,
   "metadata": {},
   "outputs": [],
   "source": [
    "truecoeff = np.concatenate([npr.uniform(-1,0,1),npr.uniform(0,1,1)])"
   ]
  },
  {
   "cell_type": "code",
   "execution_count": null,
   "metadata": {},
   "outputs": [],
   "source": [
    "truecoeff"
   ]
  },
  {
   "cell_type": "markdown",
   "metadata": {},
   "source": [
    "# Logistic Regression"
   ]
  },
  {
   "cell_type": "code",
   "execution_count": 726,
   "metadata": {},
   "outputs": [],
   "source": [
    "def eval_pns_new(dataset,N,seed,ood):\n",
    "            train_x=dataset['train_x']\n",
    "            testobs_x=dataset['testobs_x']\n",
    "            testct_x=dataset['testct_x']\n",
    "\n",
    "            train_y=dataset['train_y']\n",
    "            testobs_y=dataset['testobs_y']\n",
    "            testct_y=dataset['testct_y']\n",
    "\n",
    "            combinations=sum([list(itertools.combinations([0,1,2,3],i)) for i in [1,2,3,4]],[])\n",
    "            #print(combinations)\n",
    "            ood_type=[False]\n",
    "            results=[]\n",
    "\n",
    "            pns_whole=[]\n",
    "            accuracy=[]\n",
    "            combs=[]\n",
    "            for comb in combinations:\n",
    "                #print(comb)\n",
    "                coefs=list(comb)\n",
    "                clf=LogisticRegression(fit_intercept=False)\n",
    "                clf.fit(train_x[:,coefs],train_y)\n",
    "                print(f'comb={coefs} reg_coef={clf.coef_}, reg_inter={clf.intercept_}')\n",
    "                if ood:\n",
    "                    prob=clf.predict_proba(testct_x[:,coefs])\n",
    "                    score=clf.score(testct_x[:,coefs],testct_y)\n",
    "                    #if coefs==[2]:\n",
    "                        #print(testct_x[1:10,coefs])\n",
    "                        #print(score)\n",
    "                else: \n",
    "                    prob=clf.predict_proba(testobs_x[:,coefs])\n",
    "                    score=clf.score(testobs_x[:,coefs],testobs_y)\n",
    "                    #if coefs==[2]:\n",
    "                        #print(testobs_x[1:10,coefs])\n",
    "                        #print(score)\n",
    " \n",
    "\n",
    "                pns=0\n",
    "                for j in range(len(coefs)):\n",
    "\n",
    "                    coef_sub=coefs.copy()\n",
    "                    coef_sub.remove(coefs[j])\n",
    "\n",
    "                    clf1=LogisticRegression(fit_intercept=False)\n",
    "                    #clf1.fit(train_x[:,coef_sub].reshape(-1,1),train_y)\n",
    "                    if len(coef_sub)>1:\n",
    "                        clf1.fit(train_x[:,coef_sub],train_y)\n",
    "                    elif len(coef_sub)==1:\n",
    "                        clf1.fit(train_x[:,coef_sub].reshape(-1,1),train_y)\n",
    "                    elif len(coef_sub)<1:\n",
    "                        clf1.fit(np.ones((N,1)),train_y)\n",
    "                    if ood:\n",
    "                        #prob1=clf.predict_proba(curr_testct_x)\n",
    "                        if len(coef_sub)>1:\n",
    "                            prob1=clf1.predict_proba(testct_x[:,coef_sub])\n",
    "                        elif len(coef_sub)==1:\n",
    "                            #print(testct_x[:,coef_sub].shape)\n",
    "                            prob1=clf1.predict_proba(testct_x[:,coef_sub].reshape(-1,1))\n",
    "                        elif len(coef_sub)<1:\n",
    "                            prob1=clf1.predict_proba(np.ones((N,1)))\n",
    "                        index=np.array([1-testct_y,testct_y]).swapaxes(0,1)\n",
    "                        \n",
    "                    else:\n",
    "                        #prob1=clf.predict_proba(curr_testobs_x)\n",
    "                        if len(coef_sub)>1:\n",
    "                            prob1=clf1.predict_proba(testobs_x[:,coef_sub])\n",
    "                        elif len(coef_sub)==1:\n",
    "                            prob1=clf1.predict_proba(testobs_x[:,coef_sub].reshape(-1,1))\n",
    "                        elif len(coef_sub)<1:\n",
    "                            prob1=clf1.predict_proba(np.ones((N,1)))\n",
    "                        index=np.array([1-testobs_y,testobs_y]).swapaxes(0,1)\n",
    "                    \n",
    "                    \n",
    "                    prob_minus=np.sum(((prob-prob1+1))*index,1)\n",
    "                    #temp=np.where(prob_minus>0,prob_minus,0.00000001)\n",
    "                    pns+=np.sum(np.log(prob_minus))/(N*len(coefs))\n",
    "                pns_whole.append(pns)\n",
    "                accuracy.append(score)\n",
    "            index=pns_whole.index(max(pns_whole))\n",
    "            #print(pns_whole)\n",
    "            #print(combinations[index],max(pns_whole))\n",
    "            \n",
    "       \n",
    "            sub_results={'selected feature':combinations,'corr pns':pns_whole,'accuracy':accuracy}    \n",
    "            results.append(sub_results)\n",
    "            \n",
    "            return results\n"
   ]
  },
  {
   "cell_type": "code",
   "execution_count": 730,
   "metadata": {},
   "outputs": [
    {
     "name": "stdout",
     "output_type": "stream",
     "text": [
      "12156\n",
      "comb=[0] reg_coef=[[1.48865842]], reg_inter=[0.62915979]\n",
      "comb=[1] reg_coef=[[1.4948848]], reg_inter=[0.62849465]\n",
      "comb=[2] reg_coef=[[1.31020629]], reg_inter=[-1.07345326]\n",
      "comb=[3] reg_coef=[[1.31367336]], reg_inter=[-1.06956572]\n",
      "comb=[0, 1] reg_coef=[[1.67678419 1.68578826]], reg_inter=[0.89869113]\n",
      "comb=[0, 2] reg_coef=[[1.61675843 1.41640315]], reg_inter=[-0.96746404]\n",
      "comb=[0, 3] reg_coef=[[1.08880276 0.44871619]], reg_inter=[0.07242513]\n",
      "comb=[1, 2] reg_coef=[[1.09842284 0.44196923]], reg_inter=[0.07758481]\n",
      "comb=[1, 3] reg_coef=[[1.62663499 1.4199622 ]], reg_inter=[-0.96555563]\n",
      "comb=[2, 3] reg_coef=[[1.35625666 1.35439648]], reg_inter=[-2.66646504]\n",
      "comb=[0, 1, 2] reg_coef=[[1.67971058 1.2789195  0.45291718]], reg_inter=[0.33168009]\n",
      "comb=[0, 1, 3] reg_coef=[[1.26613437 1.68862002 0.45759356]], reg_inter=[0.32735182]\n",
      "comb=[0, 2, 3] reg_coef=[[1.24035897 1.40466243 0.4088163 ]], reg_inter=[-1.46511086]\n",
      "comb=[1, 2, 3] reg_coef=[[1.25467036 0.40240014 1.40733691]], reg_inter=[-1.45586615]\n",
      "comb=[0, 1, 2, 3] reg_coef=[[1.283961   1.29628551 0.43108819 0.43553584]], reg_inter=[-0.1861669]\n",
      "comb=[0] reg_coef=[[1.48865842]], reg_inter=[0.62915979]\n",
      "comb=[1] reg_coef=[[1.4948848]], reg_inter=[0.62849465]\n",
      "comb=[2] reg_coef=[[1.31020629]], reg_inter=[-1.07345326]\n",
      "comb=[3] reg_coef=[[1.31367336]], reg_inter=[-1.06956572]\n",
      "comb=[0, 1] reg_coef=[[1.67678419 1.68578826]], reg_inter=[0.89869113]\n",
      "comb=[0, 2] reg_coef=[[1.61675843 1.41640315]], reg_inter=[-0.96746404]\n",
      "comb=[0, 3] reg_coef=[[1.08880276 0.44871619]], reg_inter=[0.07242513]\n",
      "comb=[1, 2] reg_coef=[[1.09842284 0.44196923]], reg_inter=[0.07758481]\n",
      "comb=[1, 3] reg_coef=[[1.62663499 1.4199622 ]], reg_inter=[-0.96555563]\n",
      "comb=[2, 3] reg_coef=[[1.35625666 1.35439648]], reg_inter=[-2.66646504]\n",
      "comb=[0, 1, 2] reg_coef=[[1.67971058 1.2789195  0.45291718]], reg_inter=[0.33168009]\n",
      "comb=[0, 1, 3] reg_coef=[[1.26613437 1.68862002 0.45759356]], reg_inter=[0.32735182]\n",
      "comb=[0, 2, 3] reg_coef=[[1.24035897 1.40466243 0.4088163 ]], reg_inter=[-1.46511086]\n",
      "comb=[1, 2, 3] reg_coef=[[1.25467036 0.40240014 1.40733691]], reg_inter=[-1.45586615]\n",
      "comb=[0, 1, 2, 3] reg_coef=[[1.283961   1.29628551 0.43108819 0.43553584]], reg_inter=[-0.1861669]\n",
      "12243\n",
      "comb=[0] reg_coef=[[1.50356544]], reg_inter=[0.64434097]\n",
      "comb=[1] reg_coef=[[1.49883065]], reg_inter=[0.64433059]\n",
      "comb=[2] reg_coef=[[1.31732778]], reg_inter=[-1.05558974]\n",
      "comb=[3] reg_coef=[[1.29868893]], reg_inter=[-1.03480321]\n",
      "comb=[0, 1] reg_coef=[[1.68592868 1.68006869]], reg_inter=[0.90651904]\n",
      "comb=[0, 2] reg_coef=[[1.63041596 1.43132431]], reg_inter=[-0.95539656]\n",
      "comb=[0, 3] reg_coef=[[1.13997997 0.40463067]], reg_inter=[0.14413146]\n",
      "comb=[1, 2] reg_coef=[[1.09526044 0.45032158]], reg_inter=[0.0870305]\n",
      "comb=[1, 3] reg_coef=[[1.63148594 1.41861397]], reg_inter=[-0.94320484]\n",
      "comb=[2, 3] reg_coef=[[1.37757277 1.36159062]], reg_inter=[-2.66132736]\n",
      "comb=[0, 1, 2] reg_coef=[[1.6889965  1.26134927 0.47064642]], reg_inter=[0.32477185]\n",
      "comb=[0, 1, 3] reg_coef=[[1.28510959 1.68615647 0.45279154]], reg_inter=[0.34718465]\n",
      "comb=[0, 2, 3] reg_coef=[[1.26216106 1.42408966 0.40550871]], reg_inter=[-1.44873259]\n",
      "comb=[1, 2, 3] reg_coef=[[1.23869129 0.43067598 1.40978304]], reg_inter=[-1.46607563]\n",
      "comb=[0, 1, 2, 3] reg_coef=[[1.29846022 1.2776602  0.45445862 0.43664658]], reg_inter=[-0.19533484]\n",
      "comb=[0] reg_coef=[[1.50356544]], reg_inter=[0.64434097]\n",
      "comb=[1] reg_coef=[[1.49883065]], reg_inter=[0.64433059]\n",
      "comb=[2] reg_coef=[[1.31732778]], reg_inter=[-1.05558974]\n",
      "comb=[3] reg_coef=[[1.29868893]], reg_inter=[-1.03480321]\n",
      "comb=[0, 1] reg_coef=[[1.68592868 1.68006869]], reg_inter=[0.90651904]\n",
      "comb=[0, 2] reg_coef=[[1.63041596 1.43132431]], reg_inter=[-0.95539656]\n",
      "comb=[0, 3] reg_coef=[[1.13997997 0.40463067]], reg_inter=[0.14413146]\n",
      "comb=[1, 2] reg_coef=[[1.09526044 0.45032158]], reg_inter=[0.0870305]\n",
      "comb=[1, 3] reg_coef=[[1.63148594 1.41861397]], reg_inter=[-0.94320484]\n",
      "comb=[2, 3] reg_coef=[[1.37757277 1.36159062]], reg_inter=[-2.66132736]\n",
      "comb=[0, 1, 2] reg_coef=[[1.6889965  1.26134927 0.47064642]], reg_inter=[0.32477185]\n",
      "comb=[0, 1, 3] reg_coef=[[1.28510959 1.68615647 0.45279154]], reg_inter=[0.34718465]\n",
      "comb=[0, 2, 3] reg_coef=[[1.26216106 1.42408966 0.40550871]], reg_inter=[-1.44873259]\n",
      "comb=[1, 2, 3] reg_coef=[[1.23869129 0.43067598 1.40978304]], reg_inter=[-1.46607563]\n",
      "comb=[0, 1, 2, 3] reg_coef=[[1.29846022 1.2776602  0.45445862 0.43664658]], reg_inter=[-0.19533484]\n",
      "12247\n",
      "comb=[0] reg_coef=[[1.47347867]], reg_inter=[0.6235309]\n",
      "comb=[1] reg_coef=[[1.52841968]], reg_inter=[0.6648267]\n",
      "comb=[2] reg_coef=[[1.32858761]], reg_inter=[-1.0601293]\n",
      "comb=[3] reg_coef=[[1.29694699]], reg_inter=[-1.0505555]\n",
      "comb=[0, 1] reg_coef=[[1.67001789 1.73360147]], reg_inter=[0.91204787]\n",
      "comb=[0, 2] reg_coef=[[1.61665501 1.45683954]], reg_inter=[-0.99371609]\n",
      "comb=[0, 3] reg_coef=[[1.06972241 0.45054541]], reg_inter=[0.06386724]\n",
      "comb=[1, 2] reg_coef=[[1.14590429 0.4254174 ]], reg_inter=[0.1367615]\n",
      "comb=[1, 3] reg_coef=[[1.6727938  1.40894681]], reg_inter=[-0.93151385]\n",
      "comb=[2, 3] reg_coef=[[1.38957831 1.35440664]], reg_inter=[-2.68006133]\n",
      "comb=[0, 1, 2] reg_coef=[[1.67482077 1.32493864 0.45245559]], reg_inter=[0.35018375]\n",
      "comb=[0, 1, 3] reg_coef=[[1.24637395 1.73607777 0.4695567 ]], reg_inter=[0.32669208]\n",
      "comb=[0, 2, 3] reg_coef=[[1.23337901 1.44547372 0.41742646]], reg_inter=[-1.50116987]\n",
      "comb=[1, 2, 3] reg_coef=[[1.30774516 0.39464885 1.40065842]], reg_inter=[-1.4128342]\n",
      "comb=[0, 1, 2, 3] reg_coef=[[1.26555752 1.34268315 0.43058799 0.44951806]], reg_inter=[-0.1837559]\n",
      "comb=[0] reg_coef=[[1.47347867]], reg_inter=[0.6235309]\n",
      "comb=[1] reg_coef=[[1.52841968]], reg_inter=[0.6648267]\n",
      "comb=[2] reg_coef=[[1.32858761]], reg_inter=[-1.0601293]\n",
      "comb=[3] reg_coef=[[1.29694699]], reg_inter=[-1.0505555]\n",
      "comb=[0, 1] reg_coef=[[1.67001789 1.73360147]], reg_inter=[0.91204787]\n",
      "comb=[0, 2] reg_coef=[[1.61665501 1.45683954]], reg_inter=[-0.99371609]\n",
      "comb=[0, 3] reg_coef=[[1.06972241 0.45054541]], reg_inter=[0.06386724]\n",
      "comb=[1, 2] reg_coef=[[1.14590429 0.4254174 ]], reg_inter=[0.1367615]\n",
      "comb=[1, 3] reg_coef=[[1.6727938  1.40894681]], reg_inter=[-0.93151385]\n",
      "comb=[2, 3] reg_coef=[[1.38957831 1.35440664]], reg_inter=[-2.68006133]\n",
      "comb=[0, 1, 2] reg_coef=[[1.67482077 1.32493864 0.45245559]], reg_inter=[0.35018375]\n",
      "comb=[0, 1, 3] reg_coef=[[1.24637395 1.73607777 0.4695567 ]], reg_inter=[0.32669208]\n",
      "comb=[0, 2, 3] reg_coef=[[1.23337901 1.44547372 0.41742646]], reg_inter=[-1.50116987]\n",
      "comb=[1, 2, 3] reg_coef=[[1.30774516 0.39464885 1.40065842]], reg_inter=[-1.4128342]\n",
      "comb=[0, 1, 2, 3] reg_coef=[[1.26555752 1.34268315 0.43058799 0.44951806]], reg_inter=[-0.1837559]\n",
      "12101\n",
      "comb=[0] reg_coef=[[1.4835487]], reg_inter=[0.63641871]\n",
      "comb=[1] reg_coef=[[1.49472756]], reg_inter=[0.59606161]\n",
      "comb=[2] reg_coef=[[1.2958165]], reg_inter=[-1.07897533]\n",
      "comb=[3] reg_coef=[[1.30327133]], reg_inter=[-1.05409023]\n",
      "comb=[0, 1] reg_coef=[[1.68066174 1.69111066]], reg_inter=[0.88978376]\n",
      "comb=[0, 2] reg_coef=[[1.62011437 1.42561907]], reg_inter=[-0.97071347]\n",
      "comb=[0, 3] reg_coef=[[1.10542783 0.42705121]], reg_inter=[0.10720418]\n",
      "comb=[1, 2] reg_coef=[[1.09141515 0.44376163]], reg_inter=[0.0444087]\n",
      "comb=[1, 3] reg_coef=[[1.59932522 1.40757402]], reg_inter=[-0.96515735]\n",
      "comb=[2, 3] reg_coef=[[1.32879665 1.35472555]], reg_inter=[-2.63435129]\n",
      "comb=[0, 1, 2] reg_coef=[[1.68356128 1.27151867 0.46679315]], reg_inter=[0.30983245]\n",
      "comb=[0, 1, 3] reg_coef=[[1.33094956 1.68725805 0.39813661]], reg_inter=[0.39541361]\n",
      "comb=[0, 2, 3] reg_coef=[[1.28945712 1.4091825  0.36886572]], reg_inter=[-1.41025152]\n",
      "comb=[1, 2, 3] reg_coef=[[1.21351766 0.41426944 1.39824102]], reg_inter=[-1.47186445]\n",
      "comb=[0, 1, 2, 3] reg_coef=[[1.3468243  1.27849736 0.44964838 0.37980332]], reg_inter=[-0.1416619]\n",
      "comb=[0] reg_coef=[[1.4835487]], reg_inter=[0.63641871]\n",
      "comb=[1] reg_coef=[[1.49472756]], reg_inter=[0.59606161]\n",
      "comb=[2] reg_coef=[[1.2958165]], reg_inter=[-1.07897533]\n",
      "comb=[3] reg_coef=[[1.30327133]], reg_inter=[-1.05409023]\n",
      "comb=[0, 1] reg_coef=[[1.68066174 1.69111066]], reg_inter=[0.88978376]\n",
      "comb=[0, 2] reg_coef=[[1.62011437 1.42561907]], reg_inter=[-0.97071347]\n",
      "comb=[0, 3] reg_coef=[[1.10542783 0.42705121]], reg_inter=[0.10720418]\n",
      "comb=[1, 2] reg_coef=[[1.09141515 0.44376163]], reg_inter=[0.0444087]\n"
     ]
    },
    {
     "name": "stdout",
     "output_type": "stream",
     "text": [
      "comb=[1, 3] reg_coef=[[1.59932522 1.40757402]], reg_inter=[-0.96515735]\n",
      "comb=[2, 3] reg_coef=[[1.32879665 1.35472555]], reg_inter=[-2.63435129]\n",
      "comb=[0, 1, 2] reg_coef=[[1.68356128 1.27151867 0.46679315]], reg_inter=[0.30983245]\n",
      "comb=[0, 1, 3] reg_coef=[[1.33094956 1.68725805 0.39813661]], reg_inter=[0.39541361]\n",
      "comb=[0, 2, 3] reg_coef=[[1.28945712 1.4091825  0.36886572]], reg_inter=[-1.41025152]\n",
      "comb=[1, 2, 3] reg_coef=[[1.21351766 0.41426944 1.39824102]], reg_inter=[-1.47186445]\n",
      "comb=[0, 1, 2, 3] reg_coef=[[1.3468243  1.27849736 0.44964838 0.37980332]], reg_inter=[-0.1416619]\n",
      "12054\n",
      "comb=[0] reg_coef=[[1.49990695]], reg_inter=[0.61208406]\n",
      "comb=[1] reg_coef=[[1.47701844]], reg_inter=[0.57538793]\n",
      "comb=[2] reg_coef=[[1.28511798]], reg_inter=[-1.09026751]\n",
      "comb=[3] reg_coef=[[1.34719071]], reg_inter=[-1.12796504]\n",
      "comb=[0, 1] reg_coef=[[1.68874802 1.65907563]], reg_inter=[0.85589153]\n",
      "comb=[0, 2] reg_coef=[[1.62846808 1.3761251 ]], reg_inter=[-0.9603826]\n",
      "comb=[0, 3] reg_coef=[[1.05338856 0.50295408]], reg_inter=[-0.01168914]\n",
      "comb=[1, 2] reg_coef=[[1.06966801 0.44590934]], reg_inter=[0.01826651]\n",
      "comb=[1, 3] reg_coef=[[1.60425523 1.48198243]], reg_inter=[-1.07404613]\n",
      "comb=[2, 3] reg_coef=[[1.31149294 1.40379982]], reg_inter=[-2.70735106]\n",
      "comb=[0, 1, 2] reg_coef=[[1.69179603 1.25851211 0.43821611]], reg_inter=[0.30550271]\n",
      "comb=[0, 1, 3] reg_coef=[[1.21734962 1.66138071 0.53646396]], reg_inter=[0.19139568]\n",
      "comb=[0, 2, 3] reg_coef=[[1.20282701 1.36004778 0.47118171]], reg_inter=[-1.5268571]\n",
      "comb=[1, 2, 3] reg_coef=[[1.24722713 0.37908043 1.46874004]], reg_inter=[-1.53592201]\n",
      "comb=[0, 1, 2, 3] reg_coef=[[1.23580578 1.28089273 0.41022081 0.51310932]], reg_inter=[-0.29624345]\n",
      "comb=[0] reg_coef=[[1.49990695]], reg_inter=[0.61208406]\n",
      "comb=[1] reg_coef=[[1.47701844]], reg_inter=[0.57538793]\n",
      "comb=[2] reg_coef=[[1.28511798]], reg_inter=[-1.09026751]\n",
      "comb=[3] reg_coef=[[1.34719071]], reg_inter=[-1.12796504]\n",
      "comb=[0, 1] reg_coef=[[1.68874802 1.65907563]], reg_inter=[0.85589153]\n",
      "comb=[0, 2] reg_coef=[[1.62846808 1.3761251 ]], reg_inter=[-0.9603826]\n",
      "comb=[0, 3] reg_coef=[[1.05338856 0.50295408]], reg_inter=[-0.01168914]\n",
      "comb=[1, 2] reg_coef=[[1.06966801 0.44590934]], reg_inter=[0.01826651]\n",
      "comb=[1, 3] reg_coef=[[1.60425523 1.48198243]], reg_inter=[-1.07404613]\n",
      "comb=[2, 3] reg_coef=[[1.31149294 1.40379982]], reg_inter=[-2.70735106]\n",
      "comb=[0, 1, 2] reg_coef=[[1.69179603 1.25851211 0.43821611]], reg_inter=[0.30550271]\n",
      "comb=[0, 1, 3] reg_coef=[[1.21734962 1.66138071 0.53646396]], reg_inter=[0.19139568]\n",
      "comb=[0, 2, 3] reg_coef=[[1.20282701 1.36004778 0.47118171]], reg_inter=[-1.5268571]\n",
      "comb=[1, 2, 3] reg_coef=[[1.24722713 0.37908043 1.46874004]], reg_inter=[-1.53592201]\n",
      "comb=[0, 1, 2, 3] reg_coef=[[1.23580578 1.28089273 0.41022081 0.51310932]], reg_inter=[-0.29624345]\n",
      "12031\n",
      "comb=[0] reg_coef=[[1.49189133]], reg_inter=[0.5917557]\n",
      "comb=[1] reg_coef=[[1.5223556]], reg_inter=[0.6177874]\n",
      "comb=[2] reg_coef=[[1.31541046]], reg_inter=[-1.09622341]\n",
      "comb=[3] reg_coef=[[1.31582918]], reg_inter=[-1.10981875]\n",
      "comb=[0, 1] reg_coef=[[1.67124989 1.70847631]], reg_inter=[0.88328804]\n",
      "comb=[0, 2] reg_coef=[[1.60327393 1.41744513]], reg_inter=[-0.98921405]\n",
      "comb=[0, 3] reg_coef=[[1.0538871  0.48479554]], reg_inter=[-0.01158733]\n",
      "comb=[1, 2] reg_coef=[[1.1273382  0.43772769]], reg_inter=[0.07372273]\n",
      "comb=[1, 3] reg_coef=[[1.65013583 1.41503871]], reg_inter=[-0.97586891]\n",
      "comb=[2, 3] reg_coef=[[1.35649768 1.34986251]], reg_inter=[-2.68173947]\n",
      "comb=[0, 1, 2] reg_coef=[[1.67136655 1.3247878  0.42748864]], reg_inter=[0.35177278]\n",
      "comb=[0, 1, 3] reg_coef=[[1.23515655 1.71184629 0.4818067 ]], reg_inter=[0.28148892]\n",
      "comb=[0, 2, 3] reg_coef=[[1.19464801 1.40571018 0.44252228]], reg_inter=[-1.5286499]\n",
      "comb=[1, 2, 3] reg_coef=[[1.29507926 0.38428109 1.40291559]], reg_inter=[-1.44071829]\n",
      "comb=[0, 1, 2, 3] reg_coef=[[1.24807684 1.34214866 0.40625561 0.46328618]], reg_inter=[-0.20141135]\n",
      "comb=[0] reg_coef=[[1.49189133]], reg_inter=[0.5917557]\n",
      "comb=[1] reg_coef=[[1.5223556]], reg_inter=[0.6177874]\n",
      "comb=[2] reg_coef=[[1.31541046]], reg_inter=[-1.09622341]\n",
      "comb=[3] reg_coef=[[1.31582918]], reg_inter=[-1.10981875]\n",
      "comb=[0, 1] reg_coef=[[1.67124989 1.70847631]], reg_inter=[0.88328804]\n",
      "comb=[0, 2] reg_coef=[[1.60327393 1.41744513]], reg_inter=[-0.98921405]\n",
      "comb=[0, 3] reg_coef=[[1.0538871  0.48479554]], reg_inter=[-0.01158733]\n",
      "comb=[1, 2] reg_coef=[[1.1273382  0.43772769]], reg_inter=[0.07372273]\n",
      "comb=[1, 3] reg_coef=[[1.65013583 1.41503871]], reg_inter=[-0.97586891]\n",
      "comb=[2, 3] reg_coef=[[1.35649768 1.34986251]], reg_inter=[-2.68173947]\n",
      "comb=[0, 1, 2] reg_coef=[[1.67136655 1.3247878  0.42748864]], reg_inter=[0.35177278]\n",
      "comb=[0, 1, 3] reg_coef=[[1.23515655 1.71184629 0.4818067 ]], reg_inter=[0.28148892]\n",
      "comb=[0, 2, 3] reg_coef=[[1.19464801 1.40571018 0.44252228]], reg_inter=[-1.5286499]\n",
      "comb=[1, 2, 3] reg_coef=[[1.29507926 0.38428109 1.40291559]], reg_inter=[-1.44071829]\n",
      "comb=[0, 1, 2, 3] reg_coef=[[1.24807684 1.34214866 0.40625561 0.46328618]], reg_inter=[-0.20141135]\n",
      "12191\n",
      "comb=[0] reg_coef=[[1.52007803]], reg_inter=[0.62830909]\n",
      "comb=[1] reg_coef=[[1.47608188]], reg_inter=[0.63335257]\n",
      "comb=[2] reg_coef=[[1.31053277]], reg_inter=[-1.06157664]\n",
      "comb=[3] reg_coef=[[1.34597444]], reg_inter=[-1.1028706]\n",
      "comb=[0, 1] reg_coef=[[1.72329858 1.68155182]], reg_inter=[0.90316165]\n",
      "comb=[0, 2] reg_coef=[[1.66853195 1.45332791]], reg_inter=[-0.99258525]\n",
      "comb=[0, 3] reg_coef=[[1.07307379 0.5002657 ]], reg_inter=[0.0103807]\n",
      "comb=[1, 2] reg_coef=[[1.05592782 0.47209543]], reg_inter=[0.04717232]\n",
      "comb=[1, 3] reg_coef=[[1.62514373 1.49963195]], reg_inter=[-1.03727508]\n",
      "comb=[2, 3] reg_coef=[[1.37924321 1.42513634]], reg_inter=[-2.75071776]\n",
      "comb=[0, 1, 2] reg_coef=[[1.72837155 1.23827273 0.50351316]], reg_inter=[0.27987172]\n",
      "comb=[0, 1, 3] reg_coef=[[1.24834674 1.68946119 0.54525964]], reg_inter=[0.23397684]\n",
      "comb=[0, 2, 3] reg_coef=[[1.23517205 1.44195326 0.48158634]], reg_inter=[-1.57431172]\n",
      "comb=[1, 2, 3] reg_coef=[[1.22528871 0.44037683 1.48776271]], reg_inter=[-1.57205809]\n",
      "comb=[0, 1, 2, 3] reg_coef=[[1.26772661 1.26258876 0.47831773 0.52253142]], reg_inter=[-0.33203234]\n",
      "comb=[0] reg_coef=[[1.52007803]], reg_inter=[0.62830909]\n",
      "comb=[1] reg_coef=[[1.47608188]], reg_inter=[0.63335257]\n",
      "comb=[2] reg_coef=[[1.31053277]], reg_inter=[-1.06157664]\n",
      "comb=[3] reg_coef=[[1.34597444]], reg_inter=[-1.1028706]\n",
      "comb=[0, 1] reg_coef=[[1.72329858 1.68155182]], reg_inter=[0.90316165]\n",
      "comb=[0, 2] reg_coef=[[1.66853195 1.45332791]], reg_inter=[-0.99258525]\n",
      "comb=[0, 3] reg_coef=[[1.07307379 0.5002657 ]], reg_inter=[0.0103807]\n",
      "comb=[1, 2] reg_coef=[[1.05592782 0.47209543]], reg_inter=[0.04717232]\n",
      "comb=[1, 3] reg_coef=[[1.62514373 1.49963195]], reg_inter=[-1.03727508]\n",
      "comb=[2, 3] reg_coef=[[1.37924321 1.42513634]], reg_inter=[-2.75071776]\n",
      "comb=[0, 1, 2] reg_coef=[[1.72837155 1.23827273 0.50351316]], reg_inter=[0.27987172]\n",
      "comb=[0, 1, 3] reg_coef=[[1.24834674 1.68946119 0.54525964]], reg_inter=[0.23397684]\n",
      "comb=[0, 2, 3] reg_coef=[[1.23517205 1.44195326 0.48158634]], reg_inter=[-1.57431172]\n",
      "comb=[1, 2, 3] reg_coef=[[1.22528871 0.44037683 1.48776271]], reg_inter=[-1.57205809]\n",
      "comb=[0, 1, 2, 3] reg_coef=[[1.26772661 1.26258876 0.47831773 0.52253142]], reg_inter=[-0.33203234]\n",
      "12154\n",
      "comb=[0] reg_coef=[[1.48761954]], reg_inter=[0.62246013]\n",
      "comb=[1] reg_coef=[[1.49195208]], reg_inter=[0.64106085]\n",
      "comb=[2] reg_coef=[[1.29255976]], reg_inter=[-1.04724833]\n",
      "comb=[3] reg_coef=[[1.34458639]], reg_inter=[-1.10141784]\n",
      "comb=[0, 1] reg_coef=[[1.67421805 1.67650426]], reg_inter=[0.90679714]\n",
      "comb=[0, 2] reg_coef=[[1.61433036 1.40646798]], reg_inter=[-0.95038838]\n",
      "comb=[0, 3] reg_coef=[[1.01608794 0.53256035]], reg_inter=[-0.03506538]\n",
      "comb=[1, 2] reg_coef=[[1.12647883 0.40747555]], reg_inter=[0.13272746]\n",
      "comb=[1, 3] reg_coef=[[1.62476204 1.46975599]], reg_inter=[-0.99766152]\n",
      "comb=[2, 3] reg_coef=[[1.34807057 1.40079977]], reg_inter=[-2.69275943]\n",
      "comb=[0, 1, 2] reg_coef=[[1.67693246 1.2960313  0.42609337]], reg_inter=[0.37502516]\n",
      "comb=[0, 1, 3] reg_coef=[[1.17587514 1.6795962  0.56498934]], reg_inter=[0.20712618]\n",
      "comb=[0, 2, 3] reg_coef=[[1.15204497 1.39439526 0.51038253]], reg_inter=[-1.56974144]\n",
      "comb=[1, 2, 3] reg_coef=[[1.27933816 0.37779538 1.45926092]], reg_inter=[-1.45837566]\n"
     ]
    },
    {
     "name": "stdout",
     "output_type": "stream",
     "text": [
      "comb=[0, 1, 2, 3] reg_coef=[[1.18957735 1.31544007 0.40289924 0.54644672]], reg_inter=[-0.27391214]\n",
      "comb=[0] reg_coef=[[1.48761954]], reg_inter=[0.62246013]\n",
      "comb=[1] reg_coef=[[1.49195208]], reg_inter=[0.64106085]\n",
      "comb=[2] reg_coef=[[1.29255976]], reg_inter=[-1.04724833]\n",
      "comb=[3] reg_coef=[[1.34458639]], reg_inter=[-1.10141784]\n",
      "comb=[0, 1] reg_coef=[[1.67421805 1.67650426]], reg_inter=[0.90679714]\n",
      "comb=[0, 2] reg_coef=[[1.61433036 1.40646798]], reg_inter=[-0.95038838]\n",
      "comb=[0, 3] reg_coef=[[1.01608794 0.53256035]], reg_inter=[-0.03506538]\n",
      "comb=[1, 2] reg_coef=[[1.12647883 0.40747555]], reg_inter=[0.13272746]\n",
      "comb=[1, 3] reg_coef=[[1.62476204 1.46975599]], reg_inter=[-0.99766152]\n",
      "comb=[2, 3] reg_coef=[[1.34807057 1.40079977]], reg_inter=[-2.69275943]\n",
      "comb=[0, 1, 2] reg_coef=[[1.67693246 1.2960313  0.42609337]], reg_inter=[0.37502516]\n",
      "comb=[0, 1, 3] reg_coef=[[1.17587514 1.6795962  0.56498934]], reg_inter=[0.20712618]\n",
      "comb=[0, 2, 3] reg_coef=[[1.15204497 1.39439526 0.51038253]], reg_inter=[-1.56974144]\n",
      "comb=[1, 2, 3] reg_coef=[[1.27933816 0.37779538 1.45926092]], reg_inter=[-1.45837566]\n",
      "comb=[0, 1, 2, 3] reg_coef=[[1.18957735 1.31544007 0.40289924 0.54644672]], reg_inter=[-0.27391214]\n",
      "12058\n",
      "comb=[0] reg_coef=[[1.50316078]], reg_inter=[0.5996835]\n",
      "comb=[1] reg_coef=[[1.53111245]], reg_inter=[0.6112535]\n",
      "comb=[2] reg_coef=[[1.37045231]], reg_inter=[-1.15210634]\n",
      "comb=[3] reg_coef=[[1.30739631]], reg_inter=[-1.08774968]\n",
      "comb=[0, 1] reg_coef=[[1.72585264 1.74927191]], reg_inter=[0.8772053]\n",
      "comb=[0, 2] reg_coef=[[1.67604742 1.5182261 ]], reg_inter=[-1.09474636]\n",
      "comb=[0, 3] reg_coef=[[1.09140633 0.45459235]], reg_inter=[0.0368179]\n",
      "comb=[1, 2] reg_coef=[[1.06629165 0.52239398]], reg_inter=[-0.03396359]\n",
      "comb=[1, 3] reg_coef=[[1.6869858  1.45482152]], reg_inter=[-1.01735228]\n",
      "comb=[2, 3] reg_coef=[[1.44794607 1.39144975]], reg_inter=[-2.81829456]\n",
      "comb=[0, 1, 2] reg_coef=[[1.73568517 1.24823246 0.56586287]], reg_inter=[0.17809088]\n",
      "comb=[0, 1, 3] reg_coef=[[1.28629798 1.75649479 0.49315443]], reg_inter=[0.26840983]\n",
      "comb=[0, 2, 3] reg_coef=[[1.2735819  1.50785663 0.43743363]], reg_inter=[-1.62465996]\n",
      "comb=[1, 2, 3] reg_coef=[[1.22350492 0.51053365 1.44471142]], reg_inter=[-1.63753305]\n",
      "comb=[0, 1, 2, 3] reg_coef=[[1.310248   1.26853719 0.54472786 0.47055873]], reg_inter=[-0.37781708]\n",
      "comb=[0] reg_coef=[[1.50316078]], reg_inter=[0.5996835]\n",
      "comb=[1] reg_coef=[[1.53111245]], reg_inter=[0.6112535]\n",
      "comb=[2] reg_coef=[[1.37045231]], reg_inter=[-1.15210634]\n",
      "comb=[3] reg_coef=[[1.30739631]], reg_inter=[-1.08774968]\n",
      "comb=[0, 1] reg_coef=[[1.72585264 1.74927191]], reg_inter=[0.8772053]\n",
      "comb=[0, 2] reg_coef=[[1.67604742 1.5182261 ]], reg_inter=[-1.09474636]\n",
      "comb=[0, 3] reg_coef=[[1.09140633 0.45459235]], reg_inter=[0.0368179]\n",
      "comb=[1, 2] reg_coef=[[1.06629165 0.52239398]], reg_inter=[-0.03396359]\n",
      "comb=[1, 3] reg_coef=[[1.6869858  1.45482152]], reg_inter=[-1.01735228]\n",
      "comb=[2, 3] reg_coef=[[1.44794607 1.39144975]], reg_inter=[-2.81829456]\n",
      "comb=[0, 1, 2] reg_coef=[[1.73568517 1.24823246 0.56586287]], reg_inter=[0.17809088]\n",
      "comb=[0, 1, 3] reg_coef=[[1.28629798 1.75649479 0.49315443]], reg_inter=[0.26840983]\n",
      "comb=[0, 2, 3] reg_coef=[[1.2735819  1.50785663 0.43743363]], reg_inter=[-1.62465996]\n",
      "comb=[1, 2, 3] reg_coef=[[1.22350492 0.51053365 1.44471142]], reg_inter=[-1.63753305]\n",
      "comb=[0, 1, 2, 3] reg_coef=[[1.310248   1.26853719 0.54472786 0.47055873]], reg_inter=[-0.37781708]\n",
      "11976\n",
      "comb=[0] reg_coef=[[1.51413286]], reg_inter=[0.58761171]\n",
      "comb=[1] reg_coef=[[1.49138623]], reg_inter=[0.58411672]\n",
      "comb=[2] reg_coef=[[1.34625745]], reg_inter=[-1.14872887]\n",
      "comb=[3] reg_coef=[[1.34450334]], reg_inter=[-1.14489932]\n",
      "comb=[0, 1] reg_coef=[[1.68075209 1.67758277]], reg_inter=[0.84592056]\n",
      "comb=[0, 2] reg_coef=[[1.63882199 1.46468444]], reg_inter=[-1.0527913]\n",
      "comb=[0, 3] reg_coef=[[1.07968044 0.48374619]], reg_inter=[-0.01171069]\n",
      "comb=[1, 2] reg_coef=[[1.01658096 0.53806947]], reg_inter=[-0.08136119]\n",
      "comb=[1, 3] reg_coef=[[1.62238542 1.43404614]], reg_inter=[-1.02775224]\n",
      "comb=[2, 3] reg_coef=[[1.40254371 1.38352492]], reg_inter=[-2.77878549]\n",
      "comb=[0, 1, 2] reg_coef=[[1.68828091 1.17389752 0.57232242]], reg_inter=[0.13927463]\n",
      "comb=[0, 1, 3] reg_coef=[[1.23522004 1.68171815 0.49430147]], reg_inter=[0.23140471]\n",
      "comb=[0, 2, 3] reg_coef=[[1.23309845 1.45424855 0.44076335]], reg_inter=[-1.58815447]\n",
      "comb=[1, 2, 3] reg_coef=[[1.16215782 0.51078225 1.4225977 ]], reg_inter=[-1.64609672]\n",
      "comb=[0, 1, 2, 3] reg_coef=[[1.26090184 1.19261507 0.54962844 0.46816986]], reg_inter=[-0.41544251]\n",
      "comb=[0] reg_coef=[[1.51413286]], reg_inter=[0.58761171]\n",
      "comb=[1] reg_coef=[[1.49138623]], reg_inter=[0.58411672]\n",
      "comb=[2] reg_coef=[[1.34625745]], reg_inter=[-1.14872887]\n",
      "comb=[3] reg_coef=[[1.34450334]], reg_inter=[-1.14489932]\n",
      "comb=[0, 1] reg_coef=[[1.68075209 1.67758277]], reg_inter=[0.84592056]\n",
      "comb=[0, 2] reg_coef=[[1.63882199 1.46468444]], reg_inter=[-1.0527913]\n",
      "comb=[0, 3] reg_coef=[[1.07968044 0.48374619]], reg_inter=[-0.01171069]\n",
      "comb=[1, 2] reg_coef=[[1.01658096 0.53806947]], reg_inter=[-0.08136119]\n",
      "comb=[1, 3] reg_coef=[[1.62238542 1.43404614]], reg_inter=[-1.02775224]\n",
      "comb=[2, 3] reg_coef=[[1.40254371 1.38352492]], reg_inter=[-2.77878549]\n",
      "comb=[0, 1, 2] reg_coef=[[1.68828091 1.17389752 0.57232242]], reg_inter=[0.13927463]\n",
      "comb=[0, 1, 3] reg_coef=[[1.23522004 1.68171815 0.49430147]], reg_inter=[0.23140471]\n",
      "comb=[0, 2, 3] reg_coef=[[1.23309845 1.45424855 0.44076335]], reg_inter=[-1.58815447]\n",
      "comb=[1, 2, 3] reg_coef=[[1.16215782 0.51078225 1.4225977 ]], reg_inter=[-1.64609672]\n",
      "comb=[0, 1, 2, 3] reg_coef=[[1.26090184 1.19261507 0.54962844 0.46816986]], reg_inter=[-0.41544251]\n"
     ]
    }
   ],
   "source": [
    "df1=pd.DataFrame()\n",
    "df2=pd.DataFrame()\n",
    "for i in range(1):\n",
    "    D=4\n",
    "    corr=0.3\n",
    "    N=20000\n",
    "    seed=i+11\n",
    "    truecoeff = np.array([1,1])\n",
    "    data=simulate_4(D,corr,N,seed,truecoeff)\n",
    "    print(sum(data['train_y']))\n",
    "    results1=eval_pns_new(data,N,seed,True)\n",
    "    results2=eval_pns_new(data,N,seed,False)\n",
    "    if df1.empty:\n",
    "        df1=pd.DataFrame(results1[0])\n",
    "    else:\n",
    "        df1=pd.concat([df1,pd.DataFrame(results1[0])])\n",
    "    if df2.empty:\n",
    "        df2=pd.DataFrame(results2[0])\n",
    "    else:\n",
    "        df2=pd.concat([df2,pd.DataFrame(results2[0])])"
   ]
  },
  {
   "cell_type": "markdown",
   "metadata": {},
   "source": [
    "# plot"
   ]
  },
  {
   "cell_type": "markdown",
   "metadata": {},
   "source": [
    "## ood"
   ]
  },
  {
   "cell_type": "code",
   "execution_count": 731,
   "metadata": {
    "scrolled": true
   },
   "outputs": [
    {
     "data": {
      "text/plain": [
       "<matplotlib.axes._subplots.AxesSubplot at 0x7fcb7d4a8160>"
      ]
     },
     "execution_count": 731,
     "metadata": {},
     "output_type": "execute_result"
    },
    {
     "data": {
      "image/png": "[encoded data removed]",
      "text/plain": [
       "<matplotlib.figure.Figure at 0x7fcb7d521b70>"
      ]
     },
     "metadata": {
      "needs_background": "light"
     },
     "output_type": "display_data"
    }
   ],
   "source": [
    "#import seaborn as sns\n",
    "import matplotlib.pyplot as plt\n",
    "df1['selected feature1']=[''.join([str(i) for i in feature]) for feature in df1['selected feature']]\n",
    "df1.boxplot(column=['corr pns'],by=['selected feature1'])\n",
    "#plt.savefig('figures/ood_pns_0.2.png')\n",
    "#g=sns.boxplot(x='selected feature',y='corr pns',data=df)"
   ]
  },
  {
   "cell_type": "code",
   "execution_count": 732,
   "metadata": {
    "scrolled": true
   },
   "outputs": [
    {
     "data": {
      "text/plain": [
       "<matplotlib.axes._subplots.AxesSubplot at 0x7fcb7d31f2b0>"
      ]
     },
     "execution_count": 732,
     "metadata": {},
     "output_type": "execute_result"
    },
    {
     "data": {
      "image/png": "[encoded data removed]",
      "text/plain": [
       "<matplotlib.figure.Figure at 0x7fcb7d4e9dd8>"
      ]
     },
     "metadata": {
      "needs_background": "light"
     },
     "output_type": "display_data"
    }
   ],
   "source": [
    "df1.boxplot(column=['accuracy'],by=['selected feature1'])\n",
    "#plt.savefig('figures/ood_acc_0.2.png')"
   ]
  },
  {
   "cell_type": "markdown",
   "metadata": {},
   "source": [
    "## in distribution"
   ]
  },
  {
   "cell_type": "code",
   "execution_count": 709,
   "metadata": {},
   "outputs": [
    {
     "data": {
      "image/png": "[encoded data removed]",
      "text/plain": [
       "<matplotlib.figure.Figure at 0x7fcb7f6fc630>"
      ]
     },
     "metadata": {
      "needs_background": "light"
     },
     "output_type": "display_data"
    }
   ],
   "source": [
    "#import seaborn as sns\n",
    "import matplotlib.pyplot as plt\n",
    "df2['selected feature1']=[''.join([str(i) for i in feature]) for feature in df2['selected feature']]\n",
    "df2.boxplot(column=['corr pns'],by=['selected feature1'])\n",
    "plt.savefig('figures/id_pns_0.2.png')\n",
    "#g=sns.boxplot(x='selected feature',y='corr pns',data=df)"
   ]
  },
  {
   "cell_type": "code",
   "execution_count": 710,
   "metadata": {},
   "outputs": [
    {
     "data": {
      "image/png": "[encoded data removed]",
      "text/plain": [
       "<matplotlib.figure.Figure at 0x7fcb7f465ba8>"
      ]
     },
     "metadata": {
      "needs_background": "light"
     },
     "output_type": "display_data"
    }
   ],
   "source": [
    "df2.boxplot(column=['accuracy'],by=['selected feature1'])\n",
    "plt.savefig('figures/id_acc_0.2.png')"
   ]
  },
  {
   "cell_type": "code",
   "execution_count": null,
   "metadata": {},
   "outputs": [],
   "source": []
  },
  {
   "cell_type": "code",
   "execution_count": 31,
   "metadata": {},
   "outputs": [
    {
     "data": {
      "text/plain": [
       "(10000, 2)"
      ]
     },
     "execution_count": 31,
     "metadata": {},
     "output_type": "execute_result"
    }
   ],
   "source": [
    "coefs=[0,1]\n",
    "\n",
    "clf=LogisticRegression()\n",
    "clf.fit(train_x,train_y)\n",
    "prob=clf.predict_proba(train_x)\n",
    "\n",
    "prob.dot(np.array([train_y,1-train_y]))"
   ]
  },
  {
   "cell_type": "code",
   "execution_count": 33,
   "metadata": {},
   "outputs": [
    {
     "data": {
      "text/plain": [
       "(10000, 10000)"
      ]
     },
     "execution_count": 33,
     "metadata": {},
     "output_type": "execute_result"
    }
   ],
   "source": [
    "prob.dot(np.array([train_y,1-train_y])).shape"
   ]
  },
  {
   "cell_type": "code",
   "execution_count": 42,
   "metadata": {},
   "outputs": [],
   "source": [
    "index=np.array([1-train_y,train_y]).swapaxes(0,1)"
   ]
  },
  {
   "cell_type": "code",
   "execution_count": 299,
   "metadata": {},
   "outputs": [
    {
     "ename": "ValueError",
     "evalue": "operands could not be broadcast together with shapes (10000,2) (10000,) ",
     "output_type": "error",
     "traceback": [
      "\u001b[0;31m---------------------------------------------------------------------------\u001b[0m",
      "\u001b[0;31mValueError\u001b[0m                                Traceback (most recent call last)",
      "\u001b[0;32m<ipython-input-299-f777ef8ed51c>\u001b[0m in \u001b[0;36m<module>\u001b[0;34m()\u001b[0m\n\u001b[0;32m----> 1\u001b[0;31m \u001b[0mprob\u001b[0m\u001b[0;34m-\u001b[0m\u001b[0mnp\u001b[0m\u001b[0;34m.\u001b[0m\u001b[0msum\u001b[0m\u001b[0;34m(\u001b[0m\u001b[0mprob\u001b[0m\u001b[0;34m*\u001b[0m\u001b[0mindex\u001b[0m\u001b[0;34m,\u001b[0m\u001b[0;36m1\u001b[0m\u001b[0;34m)\u001b[0m\u001b[0;34m\u001b[0m\u001b[0;34m\u001b[0m\u001b[0m\n\u001b[0m",
      "\u001b[0;31mValueError\u001b[0m: operands could not be broadcast together with shapes (10000,2) (10000,) "
     ]
    }
   ],
   "source": [
    "prob-np.sum(prob*index,1)"
   ]
  },
  {
   "cell_type": "code",
   "execution_count": 296,
   "metadata": {},
   "outputs": [],
   "source": [
    "import torch\n",
    "a=torch.randn(10)\n",
    "b=a<0\n",
    "indices=torch.nonzero(b)"
   ]
  },
  {
   "cell_type": "markdown",
   "metadata": {},
   "source": [
    "# Simulation 2 (without flipping)"
   ]
  },
  {
   "cell_type": "code",
   "execution_count": 20,
   "metadata": {},
   "outputs": [],
   "source": [
    "def eval_pns_noflip(dataset,N,seed,ood,p):\n",
    "            train_x=dataset['train_x']\n",
    "            testobs_x=dataset['testobs_x']\n",
    "            testct_x=dataset['testct_x']\n",
    "\n",
    "            train_y=dataset['train_y']\n",
    "            testobs_y=dataset['testobs_y']\n",
    "            testct_y=dataset['testct_y']\n",
    "            \n",
    "            combinations=sum([list(itertools.combinations([0,1,2,3],i)) for i in [1,2,3,4]],[])\n",
    "            #print(combinations)\n",
    "            results=[]\n",
    "\n",
    "            pns_whole=[]\n",
    "            accuracy=[]\n",
    "            combs=[]\n",
    "            clf_full=LogisticRegression()\n",
    "            clf_full.fit(train_x,train_y)\n",
    "\n",
    "            for i in range(len(combinations)):\n",
    "                #print(comb)\n",
    "                comb=combinations[i]\n",
    "                #print(comb)\n",
    "                pns=0\n",
    "                coefs=list(comb)\n",
    "                clf=LogisticRegression()\n",
    "                clf.fit(train_x[:,coefs],train_y)\n",
    "                if ood:\n",
    "                    prob1=clf.predict_proba(testct_x[:,coefs])\n",
    "                    score=clf.score(testct_x[:,coefs],testct_y)\n",
    "                    \n",
    "                    prob=clf_full.predict_proba(testct_x)\n",
    "                    index=np.array([1-testct_y,testct_y]).swapaxes(0,1)\n",
    "                    prob_minus=np.sum(prob1*index,1)*(1+p[i]/(1-p[i]))-np.sum(prob*index,1)/(1-p[i])\n",
    "                    temp=np.where(prob_minus>0,prob_minus,0.00000001)\n",
    "                    pns=np.sum(np.log(temp))/(N)\n",
    "                    #print(f'{comb}: ood prob1-{prob1[0]}')\n",
    "                    #print(f'testct_x:{testct_x[0]}')\n",
    "                else: \n",
    "                    prob1=clf.predict_proba(testobs_x[:,coefs])\n",
    "                    score=clf.score(testobs_x[:,coefs],testobs_y)\n",
    "                    \n",
    "                    prob=clf_full.predict_proba(testobs_x)\n",
    "                    index=np.array([1-testobs_y,testobs_y]).swapaxes(0,1)\n",
    "                    prob_minus=np.sum(prob1*index,1)*(1+p[i]/(1-p[i]))-np.sum(prob*index,1)/(1-p[i])\n",
    "                    temp=np.where(prob_minus>0,prob_minus,0.00000001)\n",
    "                    pns=np.sum(np.log(temp))/(N)\n",
    "                    #print(f'{comb}: id prob1-{prob1[0]}')\n",
    "                    #print(f'testobs_x:{testobs_x[0]}')\n",
    "                pns_whole.append(pns)\n",
    "                accuracy.append(score)\n",
    "            \n",
    "            #sys.exit()\n",
    "            sub_results={'selected feature':combinations,'corr pns':pns_whole,'accuracy':accuracy}    \n",
    "            results.append(sub_results)\n",
    "            \n",
    "            return results\n"
   ]
  },
  {
   "cell_type": "code",
   "execution_count": 44,
   "metadata": {
    "scrolled": false
   },
   "outputs": [],
   "source": [
    "df1=pd.DataFrame()\n",
    "df2=pd.DataFrame()\n",
    "D=4\n",
    "corr=0.8\n",
    "N=20000\n",
    "p=[1/15]*15\n",
    "#p=[4/5/14]*4+[1/5]+[4/5/14]*10\n",
    "for i in range(10):\n",
    "    seed=i+11\n",
    "    data=simulate(D,corr,N,seed)\n",
    "    results1=eval_pns_noflip(data,N,seed,True,p)\n",
    "    results2=eval_pns_noflip(data,N,seed,False,p)\n",
    "    if df1.empty:\n",
    "        df1=pd.DataFrame(results1[0])\n",
    "    else:\n",
    "        df1=pd.concat([df1,pd.DataFrame(results1[0])])\n",
    "    if df2.empty:\n",
    "        df2=pd.DataFrame(results2[0])\n",
    "    else:\n",
    "        df2=pd.concat([df2,pd.DataFrame(results2[0])])"
   ]
  },
  {
   "cell_type": "markdown",
   "metadata": {},
   "source": [
    "# plot"
   ]
  },
  {
   "cell_type": "code",
   "execution_count": 45,
   "metadata": {},
   "outputs": [
    {
     "data": {
      "text/plain": [
       "<matplotlib.axes._subplots.AxesSubplot at 0x7fa665dc03c8>"
      ]
     },
     "execution_count": 45,
     "metadata": {},
     "output_type": "execute_result"
    },
    {
     "data": {
      "image/png": "[encoded data removed]",
      "text/plain": [
       "<matplotlib.figure.Figure at 0x7fa6687236d8>"
      ]
     },
     "metadata": {
      "needs_background": "light"
     },
     "output_type": "display_data"
    }
   ],
   "source": [
    "import matplotlib.pyplot as plt\n",
    "df1['selected feature1']=[''.join([str(i) for i in feature]) for feature in df1['selected feature']]\n",
    "df1.boxplot(column=['corr pns'],by=['selected feature1'])\n",
    "#plt.savefig(f'figures/ood_pns_corr={corr}_p={p[4]}.png')"
   ]
  },
  {
   "cell_type": "code",
   "execution_count": 46,
   "metadata": {},
   "outputs": [
    {
     "data": {
      "text/plain": [
       "<matplotlib.axes._subplots.AxesSubplot at 0x7fa66155f908>"
      ]
     },
     "execution_count": 46,
     "metadata": {},
     "output_type": "execute_result"
    },
    {
     "data": {
      "image/png": "[encoded data removed]",
      "text/plain": [
       "<matplotlib.figure.Figure at 0x7fa665de0780>"
      ]
     },
     "metadata": {
      "needs_background": "light"
     },
     "output_type": "display_data"
    }
   ],
   "source": [
    "df1.boxplot(column=['accuracy'],by=['selected feature1'])\n",
    "#plt.savefig(f'figures/ood_acc_corr={corr}_p={p[4]}.png')"
   ]
  },
  {
   "cell_type": "code",
   "execution_count": 42,
   "metadata": {},
   "outputs": [
    {
     "data": {
      "text/plain": [
       "<matplotlib.axes._subplots.AxesSubplot at 0x7fa66870da90>"
      ]
     },
     "execution_count": 42,
     "metadata": {},
     "output_type": "execute_result"
    },
    {
     "data": {
      "image/png": "[encoded data removed]",
      "text/plain": [
       "<matplotlib.figure.Figure at 0x7fa665a3fcf8>"
      ]
     },
     "metadata": {
      "needs_background": "light"
     },
     "output_type": "display_data"
    },
    {
     "data": {
      "image/png": "[encoded data removed]",
      "text/plain": [
       "<matplotlib.figure.Figure at 0x7fa6617c4518>"
      ]
     },
     "metadata": {
      "needs_background": "light"
     },
     "output_type": "display_data"
    }
   ],
   "source": [
    "df2['selected feature1']=[''.join([str(i) for i in feature]) for feature in df2['selected feature']]\n",
    "df2.boxplot(column=['corr pns'],by=['selected feature1'])\n",
    "#plt.savefig(f'figures/id_pns_corr={corr}_p={p[4]}.png')\n",
    "\n",
    "df2.boxplot(column=['accuracy'],by=['selected feature1'])\n",
    "#plt.savefig(f'figures/id_acc_corr={corr}_p={p[4]}.png')"
   ]
  },
  {
   "cell_type": "code",
   "execution_count": 480,
   "metadata": {},
   "outputs": [
    {
     "data": {
      "text/html": [
       "<div>\n",
       "<style scoped>\n",
       "    .dataframe tbody tr th:only-of-type {\n",
       "        vertical-align: middle;\n",
       "    }\n",
       "\n",
       "    .dataframe tbody tr th {\n",
       "        vertical-align: top;\n",
       "    }\n",
       "\n",
       "    .dataframe thead th {\n",
       "        text-align: right;\n",
       "    }\n",
       "</style>\n",
       "<table border=\"1\" class=\"dataframe\">\n",
       "  <thead>\n",
       "    <tr style=\"text-align: right;\">\n",
       "      <th></th>\n",
       "      <th>selected feature</th>\n",
       "      <th>corr pns</th>\n",
       "      <th>accuracy</th>\n",
       "    </tr>\n",
       "  </thead>\n",
       "  <tbody>\n",
       "    <tr>\n",
       "      <th>0</th>\n",
       "      <td>(0,)</td>\n",
       "      <td>-12.228986</td>\n",
       "      <td>0.66410</td>\n",
       "    </tr>\n",
       "    <tr>\n",
       "      <th>1</th>\n",
       "      <td>(1,)</td>\n",
       "      <td>-10.489535</td>\n",
       "      <td>0.74985</td>\n",
       "    </tr>\n",
       "    <tr>\n",
       "      <th>2</th>\n",
       "      <td>(2,)</td>\n",
       "      <td>-13.565613</td>\n",
       "      <td>0.55820</td>\n",
       "    </tr>\n",
       "    <tr>\n",
       "      <th>3</th>\n",
       "      <td>(3,)</td>\n",
       "      <td>-13.590434</td>\n",
       "      <td>0.56435</td>\n",
       "    </tr>\n",
       "    <tr>\n",
       "      <th>4</th>\n",
       "      <td>(0, 1)</td>\n",
       "      <td>-9.273586</td>\n",
       "      <td>0.79210</td>\n",
       "    </tr>\n",
       "    <tr>\n",
       "      <th>...</th>\n",
       "      <td>...</td>\n",
       "      <td>...</td>\n",
       "      <td>...</td>\n",
       "    </tr>\n",
       "    <tr>\n",
       "      <th>10</th>\n",
       "      <td>(0, 1, 2)</td>\n",
       "      <td>-11.099862</td>\n",
       "      <td>0.87650</td>\n",
       "    </tr>\n",
       "    <tr>\n",
       "      <th>11</th>\n",
       "      <td>(0, 1, 3)</td>\n",
       "      <td>-11.070623</td>\n",
       "      <td>0.87695</td>\n",
       "    </tr>\n",
       "    <tr>\n",
       "      <th>12</th>\n",
       "      <td>(0, 2, 3)</td>\n",
       "      <td>-13.995492</td>\n",
       "      <td>0.77055</td>\n",
       "    </tr>\n",
       "    <tr>\n",
       "      <th>13</th>\n",
       "      <td>(1, 2, 3)</td>\n",
       "      <td>-14.638815</td>\n",
       "      <td>0.72365</td>\n",
       "    </tr>\n",
       "    <tr>\n",
       "      <th>14</th>\n",
       "      <td>(0, 1, 2, 3)</td>\n",
       "      <td>-18.698659</td>\n",
       "      <td>0.87640</td>\n",
       "    </tr>\n",
       "  </tbody>\n",
       "</table>\n",
       "<p>150 rows × 3 columns</p>\n",
       "</div>"
      ],
      "text/plain": [
       "   selected feature   corr pns  accuracy\n",
       "0              (0,) -12.228986   0.66410\n",
       "1              (1,) -10.489535   0.74985\n",
       "2              (2,) -13.565613   0.55820\n",
       "3              (3,) -13.590434   0.56435\n",
       "4            (0, 1)  -9.273586   0.79210\n",
       "..              ...        ...       ...\n",
       "10        (0, 1, 2) -11.099862   0.87650\n",
       "11        (0, 1, 3) -11.070623   0.87695\n",
       "12        (0, 2, 3) -13.995492   0.77055\n",
       "13        (1, 2, 3) -14.638815   0.72365\n",
       "14     (0, 1, 2, 3) -18.698659   0.87640\n",
       "\n",
       "[150 rows x 3 columns]"
      ]
     },
     "execution_count": 480,
     "metadata": {},
     "output_type": "execute_result"
    }
   ],
   "source": [
    "df1"
   ]
  },
  {
   "cell_type": "code",
   "execution_count": 481,
   "metadata": {},
   "outputs": [
    {
     "data": {
      "text/html": [
       "<div>\n",
       "<style scoped>\n",
       "    .dataframe tbody tr th:only-of-type {\n",
       "        vertical-align: middle;\n",
       "    }\n",
       "\n",
       "    .dataframe tbody tr th {\n",
       "        vertical-align: top;\n",
       "    }\n",
       "\n",
       "    .dataframe thead th {\n",
       "        text-align: right;\n",
       "    }\n",
       "</style>\n",
       "<table border=\"1\" class=\"dataframe\">\n",
       "  <thead>\n",
       "    <tr style=\"text-align: right;\">\n",
       "      <th></th>\n",
       "      <th>selected feature</th>\n",
       "      <th>corr pns</th>\n",
       "      <th>accuracy</th>\n",
       "    </tr>\n",
       "  </thead>\n",
       "  <tbody>\n",
       "    <tr>\n",
       "      <th>0</th>\n",
       "      <td>(0,)</td>\n",
       "      <td>-13.908401</td>\n",
       "      <td>0.77710</td>\n",
       "    </tr>\n",
       "    <tr>\n",
       "      <th>1</th>\n",
       "      <td>(1,)</td>\n",
       "      <td>-13.302746</td>\n",
       "      <td>0.79975</td>\n",
       "    </tr>\n",
       "    <tr>\n",
       "      <th>2</th>\n",
       "      <td>(2,)</td>\n",
       "      <td>-14.286038</td>\n",
       "      <td>0.75485</td>\n",
       "    </tr>\n",
       "    <tr>\n",
       "      <th>3</th>\n",
       "      <td>(3,)</td>\n",
       "      <td>-14.284366</td>\n",
       "      <td>0.75310</td>\n",
       "    </tr>\n",
       "    <tr>\n",
       "      <th>4</th>\n",
       "      <td>(0, 1)</td>\n",
       "      <td>-12.210104</td>\n",
       "      <td>0.81925</td>\n",
       "    </tr>\n",
       "    <tr>\n",
       "      <th>...</th>\n",
       "      <td>...</td>\n",
       "      <td>...</td>\n",
       "      <td>...</td>\n",
       "    </tr>\n",
       "    <tr>\n",
       "      <th>10</th>\n",
       "      <td>(0, 1, 2)</td>\n",
       "      <td>-13.330443</td>\n",
       "      <td>0.89880</td>\n",
       "    </tr>\n",
       "    <tr>\n",
       "      <th>11</th>\n",
       "      <td>(0, 1, 3)</td>\n",
       "      <td>-13.295266</td>\n",
       "      <td>0.89900</td>\n",
       "    </tr>\n",
       "    <tr>\n",
       "      <th>12</th>\n",
       "      <td>(0, 2, 3)</td>\n",
       "      <td>-15.115390</td>\n",
       "      <td>0.87545</td>\n",
       "    </tr>\n",
       "    <tr>\n",
       "      <th>13</th>\n",
       "      <td>(1, 2, 3)</td>\n",
       "      <td>-15.405338</td>\n",
       "      <td>0.86355</td>\n",
       "    </tr>\n",
       "    <tr>\n",
       "      <th>14</th>\n",
       "      <td>(0, 1, 2, 3)</td>\n",
       "      <td>-18.574867</td>\n",
       "      <td>0.90010</td>\n",
       "    </tr>\n",
       "  </tbody>\n",
       "</table>\n",
       "<p>150 rows × 3 columns</p>\n",
       "</div>"
      ],
      "text/plain": [
       "   selected feature   corr pns  accuracy\n",
       "0              (0,) -13.908401   0.77710\n",
       "1              (1,) -13.302746   0.79975\n",
       "2              (2,) -14.286038   0.75485\n",
       "3              (3,) -14.284366   0.75310\n",
       "4            (0, 1) -12.210104   0.81925\n",
       "..              ...        ...       ...\n",
       "10        (0, 1, 2) -13.330443   0.89880\n",
       "11        (0, 1, 3) -13.295266   0.89900\n",
       "12        (0, 2, 3) -15.115390   0.87545\n",
       "13        (1, 2, 3) -15.405338   0.86355\n",
       "14     (0, 1, 2, 3) -18.574867   0.90010\n",
       "\n",
       "[150 rows x 3 columns]"
      ]
     },
     "execution_count": 481,
     "metadata": {},
     "output_type": "execute_result"
    }
   ],
   "source": [
    "df2"
   ]
  },
  {
   "cell_type": "code",
   "execution_count": null,
   "metadata": {},
   "outputs": [],
   "source": []
  },
  {
   "cell_type": "markdown",
   "metadata": {},
   "source": [
    "# lasso+PNS "
   ]
  },
  {
   "cell_type": "code",
   "execution_count": null,
   "metadata": {},
   "outputs": [],
   "source": [
    "class Logistic_pns(torch.module):\n",
    "    def __init__(self,input_dim,output_dim):\n",
    "        "
   ]
  }
 ],
 "metadata": {
  "kernelspec": {
   "display_name": "Python 3",
   "language": "python",
   "name": "python3"
  },
  "language_info": {
   "codemirror_mode": {
    "name": "ipython",
    "version": 3
   },
   "file_extension": ".py",
   "mimetype": "text/x-python",
   "name": "python",
   "nbconvert_exporter": "python",
   "pygments_lexer": "ipython3",
   "version": "3.6.8"
  }
 },
 "nbformat": 4,
 "nbformat_minor": 2
}
