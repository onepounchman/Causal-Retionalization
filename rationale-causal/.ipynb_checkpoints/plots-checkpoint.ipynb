{
 "cells": [
  {
   "cell_type": "markdown",
   "id": "5001d6eb-46f8-401c-8e0c-6d61f2d3830a",
   "metadata": {},
   "source": [
    "# plot pns\n",
    "## beer"
   ]
  },
  {
   "cell_type": "code",
   "execution_count": null,
   "id": "d5d6de09-14d3-40c5-84b2-11eb2a3171ff",
   "metadata": {},
   "outputs": [],
   "source": []
  },
  {
   "cell_type": "code",
   "execution_count": 3,
   "id": "987ed7cb-e3ed-448d-be72-8fb9334ff6cd",
   "metadata": {},
   "outputs": [
    {
     "data": {
      "text/plain": [
       "'[CLS] 22 ##oz'"
      ]
     },
     "execution_count": 3,
     "metadata": {},
     "output_type": "execute_result"
    }
   ],
   "source": [
    "' '.join(['[CLS]', '22', '##oz'])"
   ]
  },
  {
   "cell_type": "code",
   "execution_count": null,
   "id": "d0a641a2-497d-481b-b2aa-2c791becf2b2",
   "metadata": {},
   "outputs": [],
   "source": []
  }
 ],
 "metadata": {
  "kernelspec": {
   "display_name": "conda_amazonei_pytorch_latest_p37",
   "language": "python",
   "name": "conda_amazonei_pytorch_latest_p37"
  },
  "language_info": {
   "codemirror_mode": {
    "name": "ipython",
    "version": 3
   },
   "file_extension": ".py",
   "mimetype": "text/x-python",
   "name": "python",
   "nbconvert_exporter": "python",
   "pygments_lexer": "ipython3",
   "version": "3.7.13"
  }
 },
 "nbformat": 4,
 "nbformat_minor": 5
}
