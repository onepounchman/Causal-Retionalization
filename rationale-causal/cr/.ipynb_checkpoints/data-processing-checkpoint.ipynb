{
 "cells": [
  {
   "cell_type": "markdown",
   "metadata": {},
   "source": [
    "# data summary"
   ]
  },
  {
   "cell_type": "code",
   "execution_count": 1,
   "metadata": {},
   "outputs": [
    {
     "data": {
      "text/plain": [
       "'/home/ec2-user/SageMaker/Causal-Rationale/rationale-causal'"
      ]
     },
     "execution_count": 1,
     "metadata": {},
     "output_type": "execute_result"
    }
   ],
   "source": [
    "import os \n",
    "from pathlib import Path\n",
    "import pandas as pd\n",
    "import numpy as np\n",
    "import itertools\n",
    "import matplotlib.pyplot as plt\n",
    "os.getcwd()"
   ]
  },
  {
   "cell_type": "code",
   "execution_count": 2,
   "metadata": {},
   "outputs": [],
   "source": [
    "data_path=Path('data')"
   ]
  },
  {
   "cell_type": "markdown",
   "metadata": {},
   "source": [
    "# Beer"
   ]
  },
  {
   "cell_type": "code",
   "execution_count": 2,
   "metadata": {},
   "outputs": [
    {
     "name": "stdout",
     "output_type": "stream",
     "text": [
      "beer Look train: average_length=89.05033894049711,ratio_rationale=0.14584868846886362\n",
      "beer Look dev: average_length=88.756986957679,ratio_rationale=0.14449238145968513\n",
      "beer Look test: average_length=125.84693877551021,ratio_rationale=0.18105341407494951\n",
      "beer Aroma train: average_length=89.9008164714235,ratio_rationale=0.16037515298132476\n",
      "beer Aroma dev: average_length=90.14959016393442,ratio_rationale=0.15639730858600304\n",
      "beer Aroma test: average_length=126.00507614213198,ratio_rationale=0.148368016775706\n",
      "beer Palate train: average_length=90.76105087572978,ratio_rationale=0.17720397594638979\n",
      "beer Palate dev: average_length=90.43940714908457,ratio_rationale=0.17493533589353052\n",
      "beer Palate test: average_length=134.43783783783783,ratio_rationale=0.11054906611576687\n"
     ]
    }
   ],
   "source": [
    "aspect=['Look','Aroma','Palate']\n",
    "mode=['train','dev','test']\n",
    "for (aspect, mode) in list(itertools.product(aspect,mode)):\n",
    "    if mode in ('train', 'dev'):\n",
    "        path =  f'/home/ec2-user/SageMaker/Causal-Rationale/rationale-causal/data/sentiment/data/source/beer_{aspect}.{mode}_120'\n",
    "    elif mode == 'test':\n",
    "        path =  f'/home/ec2-user/SageMaker/Causal-Rationale/rationale-causal/data/sentiment/data/target/beer_{aspect}.train_120'\n",
    "    df = pd.read_csv(path, delimiter='\\t')\n",
    "    df['binary']=np.nan\n",
    "    rationales=[]\n",
    "    labels=[]\n",
    "    lengths=[]\n",
    "    start_rationle=[]\n",
    "    ratios=[]\n",
    "    for index, row in df.iterrows():\n",
    "            label = row['label']\n",
    "            # this could be applied to both beer and hotel\n",
    "            if label >= 0.6:\n",
    "                label = 1  # pos\n",
    "            elif label <= 0.4:\n",
    "                label = 0  # neg\n",
    "            else:\n",
    "                continue   \n",
    "            labels.append(label)   \n",
    "            text = row['text']\n",
    "            if 'rationale' in row:\n",
    "                rationale = [int(r) for r in row['rationale'].split()]\n",
    "            else:\n",
    "                rationale = [-1] * len(row['text'].split())\n",
    "            rationales.append(sum(rationale))\n",
    "            if 1 not in rationale:\n",
    "                continue\n",
    "            \n",
    "\n",
    "            start=rationale.index(1)\n",
    "            start_rationle.append(start)\n",
    "            length=len(row['text'].split())\n",
    "            lengths.append(length)\n",
    "            ratio=sum(rationale)/length\n",
    "            ratios.append(ratio)\n",
    "            \n",
    "    #print(f'beer {aspect} {mode}: number of positive samples:{sum(labels)}, number of negative samples:{len(labels)-sum(labels)}, total:{len(labels)}')\n",
    "    print(f'beer {aspect} {mode}: average_length={sum(lengths)/len(lengths)},ratio_rationale={sum(ratios)/len(ratios)}')\n",
    "\n",
    "    \n"
   ]
  },
  {
   "cell_type": "code",
   "execution_count": 4,
   "metadata": {},
   "outputs": [
    {
     "data": {
      "text/plain": [
       "185"
      ]
     },
     "execution_count": 4,
     "metadata": {},
     "output_type": "execute_result"
    }
   ],
   "source": [
    "len(start_rationle)"
   ]
  },
  {
   "cell_type": "code",
   "execution_count": 5,
   "metadata": {},
   "outputs": [
    {
     "data": {
      "text/plain": [
       "(array([26., 25., 32., 38., 25., 17., 11.,  8.,  6.,  2.,  3.,  3.,  2.,\n",
       "         1.,  1.]),\n",
       " array([ 0.        ,  3.33333333,  6.66666667, 10.        , 13.33333333,\n",
       "        16.66666667, 20.        , 23.33333333, 26.66666667, 30.        ,\n",
       "        33.33333333, 36.66666667, 40.        , 43.33333333, 46.66666667,\n",
       "        50.        ]),\n",
       " <BarContainer object of 15 artists>)"
      ]
     },
     "execution_count": 5,
     "metadata": {},
     "output_type": "execute_result"
    },
    {
     "data": {
      "image/png": "[encoded data removed]",
      "text/plain": [
       "<Figure size 432x288 with 1 Axes>"
      ]
     },
     "metadata": {
      "needs_background": "light"
     },
     "output_type": "display_data"
    }
   ],
   "source": [
    "plt.grid(False)\n",
    "plt.hist(rationales,15)"
   ]
  },
  {
   "cell_type": "code",
   "execution_count": 6,
   "metadata": {},
   "outputs": [
    {
     "data": {
      "text/plain": [
       "(array([ 9., 17., 31., 28., 33., 19., 14.,  7., 10.,  6.,  5.,  1.,  2.,\n",
       "         0.,  3.]),\n",
       " array([ 50.        ,  67.86666667,  85.73333333, 103.6       ,\n",
       "        121.46666667, 139.33333333, 157.2       , 175.06666667,\n",
       "        192.93333333, 210.8       , 228.66666667, 246.53333333,\n",
       "        264.4       , 282.26666667, 300.13333333, 318.        ]),\n",
       " <BarContainer object of 15 artists>)"
      ]
     },
     "execution_count": 6,
     "metadata": {},
     "output_type": "execute_result"
    },
    {
     "data": {
      "image/png": "[encoded data removed]",
      "text/plain": [
       "<Figure size 432x288 with 1 Axes>"
      ]
     },
     "metadata": {
      "needs_background": "light"
     },
     "output_type": "display_data"
    }
   ],
   "source": [
    "plt.grid(False)\n",
    "plt.hist(lengths,15)"
   ]
  },
  {
   "cell_type": "code",
   "execution_count": 26,
   "metadata": {},
   "outputs": [
    {
     "data": {
      "text/plain": [
       "'/home/ec2-user/SageMaker/Causal-Rationale/rationale-causal/data/sentiment/data/source'"
      ]
     },
     "execution_count": 26,
     "metadata": {},
     "output_type": "execute_result"
    }
   ],
   "source": [
    "pwd"
   ]
  },
  {
   "cell_type": "code",
   "execution_count": null,
   "metadata": {},
   "outputs": [],
   "source": [
    "plt.grid(False)\n",
    "plt.hist(lengths,15)"
   ]
  },
  {
   "cell_type": "markdown",
   "metadata": {},
   "source": [
    "# Make short beer data (maximum length 120)"
   ]
  },
  {
   "cell_type": "code",
   "execution_count": 7,
   "metadata": {},
   "outputs": [
    {
     "name": "stdout",
     "output_type": "stream",
     "text": [
      "beer Look train: number of short samples:15932\n",
      "beer Look train: number of positive samples:11807, number of negative samples:4125, total:15932\n",
      "beer Look dev: number of short samples:3757\n",
      "beer Look dev: number of positive samples:2794, number of negative samples:963, total:3757\n",
      "beer Look test: number of short samples:200\n",
      "beer Look test: number of positive samples:100, number of negative samples:100, total:200\n",
      "beer Aroma train: number of short samples:14085\n",
      "beer Aroma train: number of positive samples:10317, number of negative samples:3768, total:14085\n",
      "beer Aroma dev: number of short samples:2928\n",
      "beer Aroma dev: number of positive samples:2168, number of negative samples:760, total:2928\n",
      "beer Aroma test: number of short samples:200\n",
      "beer Aroma test: number of positive samples:100, number of negative samples:100, total:200\n",
      "beer Palate train: number of short samples:9592\n",
      "beer Palate train: number of positive samples:7990, number of negative samples:1602, total:9592\n",
      "beer Palate dev: number of short samples:2294\n",
      "beer Palate dev: number of positive samples:1924, number of negative samples:370, total:2294\n",
      "beer Palate test: number of short samples:200\n",
      "beer Palate test: number of positive samples:100, number of negative samples:100, total:200\n"
     ]
    }
   ],
   "source": [
    "aspect=['Look','Aroma','Palate']\n",
    "mode=['train','dev','test']\n",
    "\n",
    "len_text_look=0\n",
    "len_text_aroma=0\n",
    "len_text_palate=0\n",
    "for (aspect, mode) in list(itertools.product(aspect,mode)):\n",
    "    if mode in ('train', 'dev'):\n",
    "        path =  f'/home/ec2-user/SageMaker/Causal-Rationale/rationale-causal/data/sentiment/data/source/beer_{aspect}.{mode}'\n",
    "    elif mode == 'test':\n",
    "        path =  f'/home/ec2-user/SageMaker/Causal-Rationale/rationale-causal/data/sentiment/data/target/beer_{aspect}.train'\n",
    "    df = pd.read_csv(path, delimiter='\\t')\n",
    "    indexs=[]\n",
    "    labels=[]\n",
    "    for index, row in df.iterrows():\n",
    "            text = row['text'].split()\n",
    "            if len(text)<=120 or mode=='test':\n",
    "                label = row['label']\n",
    "                # this could be applied to both beer and hotel\n",
    "                if label >= 0.6:\n",
    "                    label = 1  # pos\n",
    "                    labels.append(label) \n",
    "                    indexs.append(index)\n",
    "                    if aspect=='Look':\n",
    "                        len_text_look+=len(text)\n",
    "                    elif aspect=='Aroma':\n",
    "                        len_text_aroma+=len(text)\n",
    "                    elif aspect=='Palate':\n",
    "                        len_text_palate+=len(text)\n",
    "                elif label <= 0.4:\n",
    "                    label = 0  # neg\n",
    "                    labels.append(label)\n",
    "                    indexs.append(index)\n",
    "                    if aspect=='Look':\n",
    "                        len_text_look+=len(text)\n",
    "                    elif aspect=='Aroma':\n",
    "                        len_text_aroma+=len(text)\n",
    "                    elif aspect=='Palate':\n",
    "                        len_text_palate+=len(text)\n",
    "                else:\n",
    "                    continue   \n",
    "\n",
    "\n",
    "    \n",
    "    df=df.iloc[indexs]\n",
    "    df['labels']=labels\n",
    "    globals()['beer_'+aspect+'_'+mode]=df\n",
    "    path = df.to_csv(path+'_120',encoding='utf-8',sep='\\t',index=False)\n",
    "    print(f'beer {aspect} {mode}: number of short samples:{len(df.index)}')\n",
    "    print(f'beer {aspect} {mode}: number of positive samples:{sum(labels)}, number of negative samples:{len(labels)-sum(labels)}, total:{len(labels)}')\n",
    "\n",
    "    \n"
   ]
  },
  {
   "cell_type": "markdown",
   "metadata": {},
   "source": [
    "# statistics of length"
   ]
  },
  {
   "cell_type": "code",
   "execution_count": 8,
   "metadata": {},
   "outputs": [
    {
     "name": "stdout",
     "output_type": "stream",
     "text": [
      "92.81403728654237\n",
      "91.42773173455593\n",
      "92.94489315160693\n"
     ]
    }
   ],
   "source": [
    "print(len_text_look/(15392+3757))\n",
    "print(len_text_aroma/(14085+2928))\n",
    "print(len_text_palate/(9592+2294))"
   ]
  },
  {
   "cell_type": "markdown",
   "metadata": {},
   "source": [
    "# statistics of rationale of test data"
   ]
  },
  {
   "cell_type": "code",
   "execution_count": 9,
   "metadata": {},
   "outputs": [
    {
     "ename": "FileNotFoundError",
     "evalue": "[Errno 2] No such file or directory: '/home/cdsw/internship_project/code/rationale-robust/data/sentiment/data/target/beer_Look.train_120'",
     "output_type": "error",
     "traceback": [
      "\u001b[0;31m---------------------------------------------------------------------------\u001b[0m",
      "\u001b[0;31mFileNotFoundError\u001b[0m                         Traceback (most recent call last)",
      "\u001b[0;32m/tmp/ipykernel_83881/2657049640.py\u001b[0m in \u001b[0;36m<cell line: 2>\u001b[0;34m()\u001b[0m\n\u001b[1;32m      1\u001b[0m \u001b[0mpath1\u001b[0m \u001b[0;34m=\u001b[0m \u001b[0;34mf'/home/cdsw/internship_project/code/rationale-robust/data/sentiment/data/target/beer_Look.train_120'\u001b[0m\u001b[0;34m\u001b[0m\u001b[0;34m\u001b[0m\u001b[0m\n\u001b[0;32m----> 2\u001b[0;31m \u001b[0mdf1\u001b[0m \u001b[0;34m=\u001b[0m \u001b[0mpd\u001b[0m\u001b[0;34m.\u001b[0m\u001b[0mread_csv\u001b[0m\u001b[0;34m(\u001b[0m\u001b[0mpath1\u001b[0m\u001b[0;34m,\u001b[0m \u001b[0mdelimiter\u001b[0m\u001b[0;34m=\u001b[0m\u001b[0;34m'\\t'\u001b[0m\u001b[0;34m)\u001b[0m\u001b[0;34m\u001b[0m\u001b[0;34m\u001b[0m\u001b[0m\n\u001b[0m\u001b[1;32m      3\u001b[0m \u001b[0mpath2\u001b[0m \u001b[0;34m=\u001b[0m \u001b[0;34mf'/home/cdsw/internship_project/code/rationale-robust/data/sentiment/data/target/beer_Aroma.train_120'\u001b[0m\u001b[0;34m\u001b[0m\u001b[0;34m\u001b[0m\u001b[0m\n\u001b[1;32m      4\u001b[0m \u001b[0mdf2\u001b[0m \u001b[0;34m=\u001b[0m \u001b[0mpd\u001b[0m\u001b[0;34m.\u001b[0m\u001b[0mread_csv\u001b[0m\u001b[0;34m(\u001b[0m\u001b[0mpath2\u001b[0m\u001b[0;34m,\u001b[0m \u001b[0mdelimiter\u001b[0m\u001b[0;34m=\u001b[0m\u001b[0;34m'\\t'\u001b[0m\u001b[0;34m)\u001b[0m\u001b[0;34m\u001b[0m\u001b[0;34m\u001b[0m\u001b[0m\n\u001b[1;32m      5\u001b[0m \u001b[0mpath3\u001b[0m \u001b[0;34m=\u001b[0m \u001b[0;34mf'/home/cdsw/internship_project/code/rationale-robust/data/sentiment/data/target/beer_Palate.train_120'\u001b[0m\u001b[0;34m\u001b[0m\u001b[0;34m\u001b[0m\u001b[0m\n",
      "\u001b[0;32m~/anaconda3/envs/pytorch_p38/lib/python3.8/site-packages/pandas/util/_decorators.py\u001b[0m in \u001b[0;36mwrapper\u001b[0;34m(*args, **kwargs)\u001b[0m\n\u001b[1;32m    309\u001b[0m                     \u001b[0mstacklevel\u001b[0m\u001b[0;34m=\u001b[0m\u001b[0mstacklevel\u001b[0m\u001b[0;34m,\u001b[0m\u001b[0;34m\u001b[0m\u001b[0;34m\u001b[0m\u001b[0m\n\u001b[1;32m    310\u001b[0m                 )\n\u001b[0;32m--> 311\u001b[0;31m             \u001b[0;32mreturn\u001b[0m \u001b[0mfunc\u001b[0m\u001b[0;34m(\u001b[0m\u001b[0;34m*\u001b[0m\u001b[0margs\u001b[0m\u001b[0;34m,\u001b[0m \u001b[0;34m**\u001b[0m\u001b[0mkwargs\u001b[0m\u001b[0;34m)\u001b[0m\u001b[0;34m\u001b[0m\u001b[0;34m\u001b[0m\u001b[0m\n\u001b[0m\u001b[1;32m    312\u001b[0m \u001b[0;34m\u001b[0m\u001b[0m\n\u001b[1;32m    313\u001b[0m         \u001b[0;32mreturn\u001b[0m \u001b[0mwrapper\u001b[0m\u001b[0;34m\u001b[0m\u001b[0;34m\u001b[0m\u001b[0m\n",
      "\u001b[0;32m~/anaconda3/envs/pytorch_p38/lib/python3.8/site-packages/pandas/io/parsers/readers.py\u001b[0m in \u001b[0;36mread_csv\u001b[0;34m(filepath_or_buffer, sep, delimiter, header, names, index_col, usecols, squeeze, prefix, mangle_dupe_cols, dtype, engine, converters, true_values, false_values, skipinitialspace, skiprows, skipfooter, nrows, na_values, keep_default_na, na_filter, verbose, skip_blank_lines, parse_dates, infer_datetime_format, keep_date_col, date_parser, dayfirst, cache_dates, iterator, chunksize, compression, thousands, decimal, lineterminator, quotechar, quoting, doublequote, escapechar, comment, encoding, encoding_errors, dialect, error_bad_lines, warn_bad_lines, on_bad_lines, delim_whitespace, low_memory, memory_map, float_precision, storage_options)\u001b[0m\n\u001b[1;32m    584\u001b[0m     \u001b[0mkwds\u001b[0m\u001b[0;34m.\u001b[0m\u001b[0mupdate\u001b[0m\u001b[0;34m(\u001b[0m\u001b[0mkwds_defaults\u001b[0m\u001b[0;34m)\u001b[0m\u001b[0;34m\u001b[0m\u001b[0;34m\u001b[0m\u001b[0m\n\u001b[1;32m    585\u001b[0m \u001b[0;34m\u001b[0m\u001b[0m\n\u001b[0;32m--> 586\u001b[0;31m     \u001b[0;32mreturn\u001b[0m \u001b[0m_read\u001b[0m\u001b[0;34m(\u001b[0m\u001b[0mfilepath_or_buffer\u001b[0m\u001b[0;34m,\u001b[0m \u001b[0mkwds\u001b[0m\u001b[0;34m)\u001b[0m\u001b[0;34m\u001b[0m\u001b[0;34m\u001b[0m\u001b[0m\n\u001b[0m\u001b[1;32m    587\u001b[0m \u001b[0;34m\u001b[0m\u001b[0m\n\u001b[1;32m    588\u001b[0m \u001b[0;34m\u001b[0m\u001b[0m\n",
      "\u001b[0;32m~/anaconda3/envs/pytorch_p38/lib/python3.8/site-packages/pandas/io/parsers/readers.py\u001b[0m in \u001b[0;36m_read\u001b[0;34m(filepath_or_buffer, kwds)\u001b[0m\n\u001b[1;32m    480\u001b[0m \u001b[0;34m\u001b[0m\u001b[0m\n\u001b[1;32m    481\u001b[0m     \u001b[0;31m# Create the parser.\u001b[0m\u001b[0;34m\u001b[0m\u001b[0;34m\u001b[0m\u001b[0;34m\u001b[0m\u001b[0m\n\u001b[0;32m--> 482\u001b[0;31m     \u001b[0mparser\u001b[0m \u001b[0;34m=\u001b[0m \u001b[0mTextFileReader\u001b[0m\u001b[0;34m(\u001b[0m\u001b[0mfilepath_or_buffer\u001b[0m\u001b[0;34m,\u001b[0m \u001b[0;34m**\u001b[0m\u001b[0mkwds\u001b[0m\u001b[0;34m)\u001b[0m\u001b[0;34m\u001b[0m\u001b[0;34m\u001b[0m\u001b[0m\n\u001b[0m\u001b[1;32m    483\u001b[0m \u001b[0;34m\u001b[0m\u001b[0m\n\u001b[1;32m    484\u001b[0m     \u001b[0;32mif\u001b[0m \u001b[0mchunksize\u001b[0m \u001b[0;32mor\u001b[0m \u001b[0miterator\u001b[0m\u001b[0;34m:\u001b[0m\u001b[0;34m\u001b[0m\u001b[0;34m\u001b[0m\u001b[0m\n",
      "\u001b[0;32m~/anaconda3/envs/pytorch_p38/lib/python3.8/site-packages/pandas/io/parsers/readers.py\u001b[0m in \u001b[0;36m__init__\u001b[0;34m(self, f, engine, **kwds)\u001b[0m\n\u001b[1;32m    809\u001b[0m             \u001b[0mself\u001b[0m\u001b[0;34m.\u001b[0m\u001b[0moptions\u001b[0m\u001b[0;34m[\u001b[0m\u001b[0;34m\"has_index_names\"\u001b[0m\u001b[0;34m]\u001b[0m \u001b[0;34m=\u001b[0m \u001b[0mkwds\u001b[0m\u001b[0;34m[\u001b[0m\u001b[0;34m\"has_index_names\"\u001b[0m\u001b[0;34m]\u001b[0m\u001b[0;34m\u001b[0m\u001b[0;34m\u001b[0m\u001b[0m\n\u001b[1;32m    810\u001b[0m \u001b[0;34m\u001b[0m\u001b[0m\n\u001b[0;32m--> 811\u001b[0;31m         \u001b[0mself\u001b[0m\u001b[0;34m.\u001b[0m\u001b[0m_engine\u001b[0m \u001b[0;34m=\u001b[0m \u001b[0mself\u001b[0m\u001b[0;34m.\u001b[0m\u001b[0m_make_engine\u001b[0m\u001b[0;34m(\u001b[0m\u001b[0mself\u001b[0m\u001b[0;34m.\u001b[0m\u001b[0mengine\u001b[0m\u001b[0;34m)\u001b[0m\u001b[0;34m\u001b[0m\u001b[0;34m\u001b[0m\u001b[0m\n\u001b[0m\u001b[1;32m    812\u001b[0m \u001b[0;34m\u001b[0m\u001b[0m\n\u001b[1;32m    813\u001b[0m     \u001b[0;32mdef\u001b[0m \u001b[0mclose\u001b[0m\u001b[0;34m(\u001b[0m\u001b[0mself\u001b[0m\u001b[0;34m)\u001b[0m\u001b[0;34m:\u001b[0m\u001b[0;34m\u001b[0m\u001b[0;34m\u001b[0m\u001b[0m\n",
      "\u001b[0;32m~/anaconda3/envs/pytorch_p38/lib/python3.8/site-packages/pandas/io/parsers/readers.py\u001b[0m in \u001b[0;36m_make_engine\u001b[0;34m(self, engine)\u001b[0m\n\u001b[1;32m   1038\u001b[0m             )\n\u001b[1;32m   1039\u001b[0m         \u001b[0;31m# error: Too many arguments for \"ParserBase\"\u001b[0m\u001b[0;34m\u001b[0m\u001b[0;34m\u001b[0m\u001b[0;34m\u001b[0m\u001b[0m\n\u001b[0;32m-> 1040\u001b[0;31m         \u001b[0;32mreturn\u001b[0m \u001b[0mmapping\u001b[0m\u001b[0;34m[\u001b[0m\u001b[0mengine\u001b[0m\u001b[0;34m]\u001b[0m\u001b[0;34m(\u001b[0m\u001b[0mself\u001b[0m\u001b[0;34m.\u001b[0m\u001b[0mf\u001b[0m\u001b[0;34m,\u001b[0m \u001b[0;34m**\u001b[0m\u001b[0mself\u001b[0m\u001b[0;34m.\u001b[0m\u001b[0moptions\u001b[0m\u001b[0;34m)\u001b[0m  \u001b[0;31m# type: ignore[call-arg]\u001b[0m\u001b[0;34m\u001b[0m\u001b[0;34m\u001b[0m\u001b[0m\n\u001b[0m\u001b[1;32m   1041\u001b[0m \u001b[0;34m\u001b[0m\u001b[0m\n\u001b[1;32m   1042\u001b[0m     \u001b[0;32mdef\u001b[0m \u001b[0m_failover_to_python\u001b[0m\u001b[0;34m(\u001b[0m\u001b[0mself\u001b[0m\u001b[0;34m)\u001b[0m\u001b[0;34m:\u001b[0m\u001b[0;34m\u001b[0m\u001b[0;34m\u001b[0m\u001b[0m\n",
      "\u001b[0;32m~/anaconda3/envs/pytorch_p38/lib/python3.8/site-packages/pandas/io/parsers/c_parser_wrapper.py\u001b[0m in \u001b[0;36m__init__\u001b[0;34m(self, src, **kwds)\u001b[0m\n\u001b[1;32m     49\u001b[0m \u001b[0;34m\u001b[0m\u001b[0m\n\u001b[1;32m     50\u001b[0m         \u001b[0;31m# open handles\u001b[0m\u001b[0;34m\u001b[0m\u001b[0;34m\u001b[0m\u001b[0;34m\u001b[0m\u001b[0m\n\u001b[0;32m---> 51\u001b[0;31m         \u001b[0mself\u001b[0m\u001b[0;34m.\u001b[0m\u001b[0m_open_handles\u001b[0m\u001b[0;34m(\u001b[0m\u001b[0msrc\u001b[0m\u001b[0;34m,\u001b[0m \u001b[0mkwds\u001b[0m\u001b[0;34m)\u001b[0m\u001b[0;34m\u001b[0m\u001b[0;34m\u001b[0m\u001b[0m\n\u001b[0m\u001b[1;32m     52\u001b[0m         \u001b[0;32massert\u001b[0m \u001b[0mself\u001b[0m\u001b[0;34m.\u001b[0m\u001b[0mhandles\u001b[0m \u001b[0;32mis\u001b[0m \u001b[0;32mnot\u001b[0m \u001b[0;32mNone\u001b[0m\u001b[0;34m\u001b[0m\u001b[0;34m\u001b[0m\u001b[0m\n\u001b[1;32m     53\u001b[0m \u001b[0;34m\u001b[0m\u001b[0m\n",
      "\u001b[0;32m~/anaconda3/envs/pytorch_p38/lib/python3.8/site-packages/pandas/io/parsers/base_parser.py\u001b[0m in \u001b[0;36m_open_handles\u001b[0;34m(self, src, kwds)\u001b[0m\n\u001b[1;32m    220\u001b[0m         \u001b[0mLet\u001b[0m \u001b[0mthe\u001b[0m \u001b[0mreaders\u001b[0m \u001b[0mopen\u001b[0m \u001b[0mIOHandles\u001b[0m \u001b[0mafter\u001b[0m \u001b[0mthey\u001b[0m \u001b[0mare\u001b[0m \u001b[0mdone\u001b[0m \u001b[0;32mwith\u001b[0m \u001b[0mtheir\u001b[0m \u001b[0mpotential\u001b[0m \u001b[0mraises\u001b[0m\u001b[0;34m.\u001b[0m\u001b[0;34m\u001b[0m\u001b[0;34m\u001b[0m\u001b[0m\n\u001b[1;32m    221\u001b[0m         \"\"\"\n\u001b[0;32m--> 222\u001b[0;31m         self.handles = get_handle(\n\u001b[0m\u001b[1;32m    223\u001b[0m             \u001b[0msrc\u001b[0m\u001b[0;34m,\u001b[0m\u001b[0;34m\u001b[0m\u001b[0;34m\u001b[0m\u001b[0m\n\u001b[1;32m    224\u001b[0m             \u001b[0;34m\"r\"\u001b[0m\u001b[0;34m,\u001b[0m\u001b[0;34m\u001b[0m\u001b[0;34m\u001b[0m\u001b[0m\n",
      "\u001b[0;32m~/anaconda3/envs/pytorch_p38/lib/python3.8/site-packages/pandas/io/common.py\u001b[0m in \u001b[0;36mget_handle\u001b[0;34m(path_or_buf, mode, encoding, compression, memory_map, is_text, errors, storage_options)\u001b[0m\n\u001b[1;32m    700\u001b[0m         \u001b[0;32mif\u001b[0m \u001b[0mioargs\u001b[0m\u001b[0;34m.\u001b[0m\u001b[0mencoding\u001b[0m \u001b[0;32mand\u001b[0m \u001b[0;34m\"b\"\u001b[0m \u001b[0;32mnot\u001b[0m \u001b[0;32min\u001b[0m \u001b[0mioargs\u001b[0m\u001b[0;34m.\u001b[0m\u001b[0mmode\u001b[0m\u001b[0;34m:\u001b[0m\u001b[0;34m\u001b[0m\u001b[0;34m\u001b[0m\u001b[0m\n\u001b[1;32m    701\u001b[0m             \u001b[0;31m# Encoding\u001b[0m\u001b[0;34m\u001b[0m\u001b[0;34m\u001b[0m\u001b[0;34m\u001b[0m\u001b[0m\n\u001b[0;32m--> 702\u001b[0;31m             handle = open(\n\u001b[0m\u001b[1;32m    703\u001b[0m                 \u001b[0mhandle\u001b[0m\u001b[0;34m,\u001b[0m\u001b[0;34m\u001b[0m\u001b[0;34m\u001b[0m\u001b[0m\n\u001b[1;32m    704\u001b[0m                 \u001b[0mioargs\u001b[0m\u001b[0;34m.\u001b[0m\u001b[0mmode\u001b[0m\u001b[0;34m,\u001b[0m\u001b[0;34m\u001b[0m\u001b[0;34m\u001b[0m\u001b[0m\n",
      "\u001b[0;31mFileNotFoundError\u001b[0m: [Errno 2] No such file or directory: '/home/cdsw/internship_project/code/rationale-robust/data/sentiment/data/target/beer_Look.train_120'"
     ]
    }
   ],
   "source": [
    "path1 = f'/home/cdsw/internship_project/code/rationale-robust/data/sentiment/data/target/beer_Look.train_120'\n",
    "df1 = pd.read_csv(path1, delimiter='\\t')\n",
    "path2 = f'/home/cdsw/internship_project/code/rationale-robust/data/sentiment/data/target/beer_Aroma.train_120'\n",
    "df2 = pd.read_csv(path2, delimiter='\\t')\n",
    "path3 = f'/home/cdsw/internship_project/code/rationale-robust/data/sentiment/data/target/beer_Palate.train_120'\n",
    "df3 = pd.read_csv(path3, delimiter='\\t')\n",
    "\n"
   ]
  },
  {
   "cell_type": "code",
   "execution_count": 21,
   "metadata": {},
   "outputs": [
    {
     "ename": "AttributeError",
     "evalue": "'DataFrame' object has no attribute 'split'",
     "output_type": "error",
     "traceback": [
      "\u001b[0;31m---------------------------------------------------------------------------\u001b[0m",
      "\u001b[0;31mAttributeError\u001b[0m                            Traceback (most recent call last)",
      "\u001b[0;32m<ipython-input-21-d6556719310a>\u001b[0m in \u001b[0;36m<module>\u001b[0;34m()\u001b[0m\n\u001b[0;32m----> 1\u001b[0;31m \u001b[0mint\u001b[0m\u001b[0;34m(\u001b[0m\u001b[0mdf\u001b[0m\u001b[0;34m.\u001b[0m\u001b[0miloc\u001b[0m\u001b[0;34m[\u001b[0m\u001b[0;34m[\u001b[0m\u001b[0;36m0\u001b[0m\u001b[0;34m]\u001b[0m\u001b[0;34m]\u001b[0m\u001b[0;34m[\u001b[0m\u001b[0;34m[\u001b[0m\u001b[0;34m'rationale'\u001b[0m\u001b[0;34m]\u001b[0m\u001b[0;34m]\u001b[0m\u001b[0;34m.\u001b[0m\u001b[0msplit\u001b[0m\u001b[0;34m(\u001b[0m\u001b[0;34m)\u001b[0m\u001b[0;34m)\u001b[0m\u001b[0;34m\u001b[0m\u001b[0;34m\u001b[0m\u001b[0m\n\u001b[0m",
      "\u001b[0;32m/home/cdsw/.local/lib/python3.6/site-packages/pandas/core/generic.py\u001b[0m in \u001b[0;36m__getattr__\u001b[0;34m(self, name)\u001b[0m\n\u001b[1;32m   5139\u001b[0m             \u001b[0;32mif\u001b[0m \u001b[0mself\u001b[0m\u001b[0;34m.\u001b[0m\u001b[0m_info_axis\u001b[0m\u001b[0;34m.\u001b[0m\u001b[0m_can_hold_identifiers_and_holds_name\u001b[0m\u001b[0;34m(\u001b[0m\u001b[0mname\u001b[0m\u001b[0;34m)\u001b[0m\u001b[0;34m:\u001b[0m\u001b[0;34m\u001b[0m\u001b[0;34m\u001b[0m\u001b[0m\n\u001b[1;32m   5140\u001b[0m                 \u001b[0;32mreturn\u001b[0m \u001b[0mself\u001b[0m\u001b[0;34m[\u001b[0m\u001b[0mname\u001b[0m\u001b[0;34m]\u001b[0m\u001b[0;34m\u001b[0m\u001b[0;34m\u001b[0m\u001b[0m\n\u001b[0;32m-> 5141\u001b[0;31m             \u001b[0;32mreturn\u001b[0m \u001b[0mobject\u001b[0m\u001b[0;34m.\u001b[0m\u001b[0m__getattribute__\u001b[0m\u001b[0;34m(\u001b[0m\u001b[0mself\u001b[0m\u001b[0;34m,\u001b[0m \u001b[0mname\u001b[0m\u001b[0;34m)\u001b[0m\u001b[0;34m\u001b[0m\u001b[0;34m\u001b[0m\u001b[0m\n\u001b[0m\u001b[1;32m   5142\u001b[0m \u001b[0;34m\u001b[0m\u001b[0m\n\u001b[1;32m   5143\u001b[0m     \u001b[0;32mdef\u001b[0m \u001b[0m__setattr__\u001b[0m\u001b[0;34m(\u001b[0m\u001b[0mself\u001b[0m\u001b[0;34m,\u001b[0m \u001b[0mname\u001b[0m\u001b[0;34m:\u001b[0m \u001b[0mstr\u001b[0m\u001b[0;34m,\u001b[0m \u001b[0mvalue\u001b[0m\u001b[0;34m)\u001b[0m \u001b[0;34m->\u001b[0m \u001b[0;32mNone\u001b[0m\u001b[0;34m:\u001b[0m\u001b[0;34m\u001b[0m\u001b[0;34m\u001b[0m\u001b[0m\n",
      "\u001b[0;31mAttributeError\u001b[0m: 'DataFrame' object has no attribute 'split'"
     ]
    }
   ],
   "source": [
    "int(df.iloc[[0]][['rationale']].split())"
   ]
  },
  {
   "cell_type": "markdown",
   "metadata": {},
   "source": [
    "# Hotel"
   ]
  },
  {
   "cell_type": "code",
   "execution_count": 7,
   "metadata": {},
   "outputs": [
    {
     "ename": "NameError",
     "evalue": "name 'itertools' is not defined",
     "output_type": "error",
     "traceback": [
      "\u001b[0;31m---------------------------------------------------------------------------\u001b[0m",
      "\u001b[0;31mNameError\u001b[0m                                 Traceback (most recent call last)",
      "\u001b[0;32m<ipython-input-7-0e5573ee0439>\u001b[0m in \u001b[0;36m<module>\u001b[0;34m()\u001b[0m\n\u001b[1;32m      1\u001b[0m \u001b[0maspect\u001b[0m\u001b[0;34m=\u001b[0m\u001b[0;34m[\u001b[0m\u001b[0;34m'Cleanliness'\u001b[0m\u001b[0;34m,\u001b[0m\u001b[0;34m'Location'\u001b[0m\u001b[0;34m,\u001b[0m\u001b[0;34m'Service'\u001b[0m\u001b[0;34m]\u001b[0m\u001b[0;34m\u001b[0m\u001b[0;34m\u001b[0m\u001b[0m\n\u001b[1;32m      2\u001b[0m \u001b[0mmode\u001b[0m\u001b[0;34m=\u001b[0m\u001b[0;34m[\u001b[0m\u001b[0;34m'train'\u001b[0m\u001b[0;34m,\u001b[0m\u001b[0;34m'dev'\u001b[0m\u001b[0;34m,\u001b[0m\u001b[0;34m'test'\u001b[0m\u001b[0;34m]\u001b[0m\u001b[0;34m\u001b[0m\u001b[0;34m\u001b[0m\u001b[0m\n\u001b[0;32m----> 3\u001b[0;31m \u001b[0;32mfor\u001b[0m \u001b[0;34m(\u001b[0m\u001b[0maspect\u001b[0m\u001b[0;34m,\u001b[0m \u001b[0mmode\u001b[0m\u001b[0;34m)\u001b[0m \u001b[0;32min\u001b[0m \u001b[0mlist\u001b[0m\u001b[0;34m(\u001b[0m\u001b[0mitertools\u001b[0m\u001b[0;34m.\u001b[0m\u001b[0mproduct\u001b[0m\u001b[0;34m(\u001b[0m\u001b[0maspect\u001b[0m\u001b[0;34m,\u001b[0m\u001b[0mmode\u001b[0m\u001b[0;34m)\u001b[0m\u001b[0;34m)\u001b[0m\u001b[0;34m:\u001b[0m\u001b[0;34m\u001b[0m\u001b[0;34m\u001b[0m\u001b[0m\n\u001b[0m\u001b[1;32m      4\u001b[0m     \u001b[0;32mif\u001b[0m \u001b[0mmode\u001b[0m \u001b[0;32min\u001b[0m \u001b[0;34m(\u001b[0m\u001b[0;34m'train'\u001b[0m\u001b[0;34m,\u001b[0m \u001b[0;34m'dev'\u001b[0m\u001b[0;34m)\u001b[0m\u001b[0;34m:\u001b[0m\u001b[0;34m\u001b[0m\u001b[0;34m\u001b[0m\u001b[0m\n\u001b[1;32m      5\u001b[0m         \u001b[0mpath\u001b[0m \u001b[0;34m=\u001b[0m  \u001b[0;34mf'/home/cdsw/internship_project/code/rationale-robust/data/sentiment/data/oracle/hotel_{aspect}.{mode}'\u001b[0m\u001b[0;34m\u001b[0m\u001b[0;34m\u001b[0m\u001b[0m\n",
      "\u001b[0;31mNameError\u001b[0m: name 'itertools' is not defined"
     ]
    }
   ],
   "source": [
    "aspect=['Cleanliness','Location','Service']\n",
    "mode=['train','dev','test']\n",
    "for (aspect, mode) in list(itertools.product(aspect,mode)):\n",
    "    if mode in ('train', 'dev'):\n",
    "        path =  f'/home/cdsw/internship_project/code/rationale-robust/data/sentiment/data/oracle/hotel_{aspect}.{mode}'\n",
    "    elif mode == 'test':\n",
    "        path =  f'/home/cdsw/internship_project/code/rationale-robust/data/sentiment/data/target/hotel_{aspect}.train'\n",
    "    df = pd.read_csv(path, delimiter='\\t')\n",
    "    df['binary']=np.nan\n",
    "    rationales=[]\n",
    "    labels=[]\n",
    "    for index, row in df.iterrows():\n",
    "            label = row['label']\n",
    "\n",
    "            # this could be applied to both beer and hotel\n",
    "            if label >= 0.6:\n",
    "                label = 1  # pos\n",
    "            elif label <= 0.4:\n",
    "                label = 0  # neg\n",
    "            else:\n",
    "                continue   \n",
    "            labels.append(label)   \n",
    "            text = row['text']\n",
    "            if 'rationale' in row:\n",
    "                rationale = [int(r) for r in row['rationale'].split()]\n",
    "            else:\n",
    "                rationale = [-1] * len(row['text'].split())\n",
    "            rationales.append(sum(rationale))\n",
    "    print(f'beer {aspect} {mode}: number of positive samples:{sum(labels)}, number of negative samples:{len(labels)-sum(labels)}, total:{len(labels)}')\n",
    "\n",
    "\n",
    "    \n"
   ]
  },
  {
   "cell_type": "code",
   "execution_count": null,
   "metadata": {},
   "outputs": [],
   "source": [
    "while True: a=1"
   ]
  },
  {
   "cell_type": "code",
   "execution_count": null,
   "metadata": {},
   "outputs": [],
   "source": []
  },
  {
   "cell_type": "markdown",
   "metadata": {},
   "source": [
    "# Spurious correlation Synthetic "
   ]
  },
  {
   "cell_type": "code",
   "execution_count": 28,
   "metadata": {},
   "outputs": [],
   "source": [
    "def add_noise(raw_data,alpha,mode):\n",
    "    data=raw_data.copy()\n",
    "    labels=data['labels'].to_numpy()\n",
    "    if mode=='test':\n",
    "        alpha=1-alpha\n",
    "    else:\n",
    "        alpha=alpha\n",
    "    for i in range(len(data.index)):\n",
    "        indi=np.random.binomial(1,alpha,1)\n",
    "        data.loc[data.index[i],'rationale']='0 '+data.loc[data.index[i],'rationale']\n",
    "        if indi==1:\n",
    "            if labels[i]==1:\n",
    "                    data.loc[data.index[i],'text']=', '+data.loc[data.index[i],'text']\n",
    "            else:\n",
    "                    data.loc[data.index[i],'text']='. '+data.loc[data.index[i],'text']\n",
    "        else:\n",
    "            if labels[i]==1:\n",
    "                    data.loc[data.index[i],'text']='. '+data.loc[data.index[i],'text']\n",
    "            else:\n",
    "                    data.loc[data.index[i],'text']=', '+data.loc[data.index[i],'text']\n",
    "    return data\n",
    "\n"
   ]
  },
  {
   "cell_type": "code",
   "execution_count": 29,
   "metadata": {},
   "outputs": [],
   "source": [
    "alpha=0.8\n",
    "aspect=['Aroma','Palate']\n",
    "mode=['train','dev']\n",
    "np.random.seed(0)\n",
    "for (aspect, mode) in list(itertools.product(aspect,mode)):\n",
    "    df=(globals()['beer_'+aspect+'_'+mode])\n",
    "    globals()['beer_'+aspect+'_'+mode+'_noise']=add_noise(df,alpha,mode)\n",
    "    if mode in ('train', 'dev'):\n",
    "        path =  f'/home/ec2-user/SageMaker/Causal-Rationale/rationale-causal/data/sentiment/data/source/beer_{aspect}.{mode}'\n",
    "    globals()['beer_'+aspect+'_'+mode+'_noise'].to_csv(path+'_noise',encoding='utf-8',sep='\\t',index=False)"
   ]
  },
  {
   "cell_type": "code",
   "execution_count": 36,
   "metadata": {},
   "outputs": [
    {
     "data": {
      "text/html": [
       "<div>\n",
       "<style scoped>\n",
       "    .dataframe tbody tr th:only-of-type {\n",
       "        vertical-align: middle;\n",
       "    }\n",
       "\n",
       "    .dataframe tbody tr th {\n",
       "        vertical-align: top;\n",
       "    }\n",
       "\n",
       "    .dataframe thead th {\n",
       "        text-align: right;\n",
       "    }\n",
       "</style>\n",
       "<table border=\"1\" class=\"dataframe\">\n",
       "  <thead>\n",
       "    <tr style=\"text-align: right;\">\n",
       "      <th></th>\n",
       "      <th>task</th>\n",
       "      <th>label</th>\n",
       "      <th>text</th>\n",
       "      <th>rationale</th>\n",
       "      <th>labels</th>\n",
       "    </tr>\n",
       "  </thead>\n",
       "  <tbody>\n",
       "    <tr>\n",
       "      <th>2</th>\n",
       "      <td>beer2</td>\n",
       "      <td>1.0</td>\n",
       "      <td>, from the bottle at the de heeren 20th annive...</td>\n",
       "      <td>0 0 0 0 0 0 0 0 0 0 0 0 0 0 0 0 0 0 0 0 0 0 0 ...</td>\n",
       "      <td>1</td>\n",
       "    </tr>\n",
       "    <tr>\n",
       "      <th>3</th>\n",
       "      <td>beer2</td>\n",
       "      <td>0.6</td>\n",
       "      <td>, this beer pours a dark body with a thick dir...</td>\n",
       "      <td>0 0 0 0 0 0 0 0 0 0 0 0 0 0 0 0 0 0 0 0 0 0 0 ...</td>\n",
       "      <td>1</td>\n",
       "    </tr>\n",
       "    <tr>\n",
       "      <th>7</th>\n",
       "      <td>beer2</td>\n",
       "      <td>0.3</td>\n",
       "      <td>. 12 oz bottle . bottled on 6/8/11 . reviewed ...</td>\n",
       "      <td>0 0 0 0 0 0 0 0 0 0 0 0 0 0 0 0 0 0 0 0 0 0 0 ...</td>\n",
       "      <td>0</td>\n",
       "    </tr>\n",
       "    <tr>\n",
       "      <th>13</th>\n",
       "      <td>beer2</td>\n",
       "      <td>0.7</td>\n",
       "      <td>, pours a crystal clear reddish-brown color . ...</td>\n",
       "      <td>0 0 0 0 0 0 0 0 0 0 0 0 0 0 0 0 0 0 0 0 0 0 0 ...</td>\n",
       "      <td>1</td>\n",
       "    </tr>\n",
       "    <tr>\n",
       "      <th>14</th>\n",
       "      <td>beer2</td>\n",
       "      <td>0.4</td>\n",
       "      <td>. from a 500 ml bottle . poured straw yellow ,...</td>\n",
       "      <td>0 0 0 0 0 0 0 0 0 0 0 0 0 0 0 0 0 0 0 0 0 0 0 ...</td>\n",
       "      <td>0</td>\n",
       "    </tr>\n",
       "    <tr>\n",
       "      <th>...</th>\n",
       "      <td>...</td>\n",
       "      <td>...</td>\n",
       "      <td>...</td>\n",
       "      <td>...</td>\n",
       "      <td>...</td>\n",
       "    </tr>\n",
       "    <tr>\n",
       "      <th>7134</th>\n",
       "      <td>beer2</td>\n",
       "      <td>0.3</td>\n",
       "      <td>. pours a clear yellow straw with a big off wh...</td>\n",
       "      <td>0 0 0 0 0 0 0 0 0 0 0 0 0 0 0 0 0 0 0 0 0 0 0 ...</td>\n",
       "      <td>0</td>\n",
       "    </tr>\n",
       "    <tr>\n",
       "      <th>7137</th>\n",
       "      <td>beer2</td>\n",
       "      <td>0.6</td>\n",
       "      <td>, serving notes - 45f , poured into imperial p...</td>\n",
       "      <td>0 0 0 0 0 0 0 0 0 0 0 0 0 0 0 0 0 0 0 0 0 0 0 ...</td>\n",
       "      <td>1</td>\n",
       "    </tr>\n",
       "    <tr>\n",
       "      <th>7139</th>\n",
       "      <td>beer2</td>\n",
       "      <td>0.8</td>\n",
       "      <td>, appearance = basic , light beer with white f...</td>\n",
       "      <td>0 0 0 0 0 0 0 0 0 0 0 0 0 0 0 0 0 0 0 0 0 0 0 ...</td>\n",
       "      <td>1</td>\n",
       "    </tr>\n",
       "    <tr>\n",
       "      <th>7140</th>\n",
       "      <td>beer2</td>\n",
       "      <td>1.0</td>\n",
       "      <td>, a modest yet fully respectable hoppy bourbon...</td>\n",
       "      <td>0 0 0 0 0 0 0 0 0 0 0 0 0 0 0 0 0 0 0 0 0 0 0 ...</td>\n",
       "      <td>1</td>\n",
       "    </tr>\n",
       "    <tr>\n",
       "      <th>7143</th>\n",
       "      <td>beer2</td>\n",
       "      <td>1.0</td>\n",
       "      <td>, sampled on 11-8-08 pours a crystal clear dee...</td>\n",
       "      <td>0 0 0 0 0 0 0 0 0 0 0 0 0 0 0 0 0 0 0 0 0 0 0 ...</td>\n",
       "      <td>1</td>\n",
       "    </tr>\n",
       "  </tbody>\n",
       "</table>\n",
       "<p>2294 rows × 5 columns</p>\n",
       "</div>"
      ],
      "text/plain": [
       "       task  label                                               text  \\\n",
       "2     beer2    1.0  , from the bottle at the de heeren 20th annive...   \n",
       "3     beer2    0.6  , this beer pours a dark body with a thick dir...   \n",
       "7     beer2    0.3  . 12 oz bottle . bottled on 6/8/11 . reviewed ...   \n",
       "13    beer2    0.7  , pours a crystal clear reddish-brown color . ...   \n",
       "14    beer2    0.4  . from a 500 ml bottle . poured straw yellow ,...   \n",
       "...     ...    ...                                                ...   \n",
       "7134  beer2    0.3  . pours a clear yellow straw with a big off wh...   \n",
       "7137  beer2    0.6  , serving notes - 45f , poured into imperial p...   \n",
       "7139  beer2    0.8  , appearance = basic , light beer with white f...   \n",
       "7140  beer2    1.0  , a modest yet fully respectable hoppy bourbon...   \n",
       "7143  beer2    1.0  , sampled on 11-8-08 pours a crystal clear dee...   \n",
       "\n",
       "                                              rationale  labels  \n",
       "2     0 0 0 0 0 0 0 0 0 0 0 0 0 0 0 0 0 0 0 0 0 0 0 ...       1  \n",
       "3     0 0 0 0 0 0 0 0 0 0 0 0 0 0 0 0 0 0 0 0 0 0 0 ...       1  \n",
       "7     0 0 0 0 0 0 0 0 0 0 0 0 0 0 0 0 0 0 0 0 0 0 0 ...       0  \n",
       "13    0 0 0 0 0 0 0 0 0 0 0 0 0 0 0 0 0 0 0 0 0 0 0 ...       1  \n",
       "14    0 0 0 0 0 0 0 0 0 0 0 0 0 0 0 0 0 0 0 0 0 0 0 ...       0  \n",
       "...                                                 ...     ...  \n",
       "7134  0 0 0 0 0 0 0 0 0 0 0 0 0 0 0 0 0 0 0 0 0 0 0 ...       0  \n",
       "7137  0 0 0 0 0 0 0 0 0 0 0 0 0 0 0 0 0 0 0 0 0 0 0 ...       1  \n",
       "7139  0 0 0 0 0 0 0 0 0 0 0 0 0 0 0 0 0 0 0 0 0 0 0 ...       1  \n",
       "7140  0 0 0 0 0 0 0 0 0 0 0 0 0 0 0 0 0 0 0 0 0 0 0 ...       1  \n",
       "7143  0 0 0 0 0 0 0 0 0 0 0 0 0 0 0 0 0 0 0 0 0 0 0 ...       1  \n",
       "\n",
       "[2294 rows x 5 columns]"
      ]
     },
     "execution_count": 36,
     "metadata": {},
     "output_type": "execute_result"
    }
   ],
   "source": [
    "beer_Palate_dev_noise"
   ]
  },
  {
   "cell_type": "code",
   "execution_count": 34,
   "metadata": {},
   "outputs": [
    {
     "data": {
      "text/plain": [
       "{'input_ids': [101, 119, 178, 1631, 2213, 2269, 1142, 1272, 178, 1215, 1106, 1567, 1142, 4333, 117, 1133, 1719, 1139, 18689, 1138, 9881, 1181, 1137, 1142, 5298, 1144, 2065, 23895, 119, 3505, 1843, 3058, 2942, 1114, 170, 4240, 1129, 13417, 1246, 117, 1133, 1185, 170, 18885, 1120, 1155, 119, 1304, 1447, 1183, 1779, 8124, 1883, 4501, 1106, 170, 6812, 12477, 6066, 16852, 1114, 1304, 1609, 6974, 1116, 26051, 119, 170, 1376, 1113, 1103, 4105, 1334, 119, 7859, 6974, 1170, 10401, 1566, 119, 1822, 1107, 1959, 1105, 16852, 119, 1304, 171, 1931, 119, 1159, 1106, 1815, 1113, 119, 102], 'token_type_ids': [0, 0, 0, 0, 0, 0, 0, 0, 0, 0, 0, 0, 0, 0, 0, 0, 0, 0, 0, 0, 0, 0, 0, 0, 0, 0, 0, 0, 0, 0, 0, 0, 0, 0, 0, 0, 0, 0, 0, 0, 0, 0, 0, 0, 0, 0, 0, 0, 0, 0, 0, 0, 0, 0, 0, 0, 0, 0, 0, 0, 0, 0, 0, 0, 0, 0, 0, 0, 0, 0, 0, 0, 0, 0, 0, 0, 0, 0, 0, 0, 0, 0, 0, 0, 0, 0, 0, 0, 0, 0, 0, 0, 0, 0, 0, 0], 'attention_mask': [1, 1, 1, 1, 1, 1, 1, 1, 1, 1, 1, 1, 1, 1, 1, 1, 1, 1, 1, 1, 1, 1, 1, 1, 1, 1, 1, 1, 1, 1, 1, 1, 1, 1, 1, 1, 1, 1, 1, 1, 1, 1, 1, 1, 1, 1, 1, 1, 1, 1, 1, 1, 1, 1, 1, 1, 1, 1, 1, 1, 1, 1, 1, 1, 1, 1, 1, 1, 1, 1, 1, 1, 1, 1, 1, 1, 1, 1, 1, 1, 1, 1, 1, 1, 1, 1, 1, 1, 1, 1, 1, 1, 1, 1, 1, 1]}"
      ]
     },
     "execution_count": 34,
     "metadata": {},
     "output_type": "execute_result"
    }
   ],
   "source": [
    "from transformers import BertTokenizer, BertForMaskedLM\n",
    "import torch\n",
    "\n",
    "tokenizer = BertTokenizer.from_pretrained('bert-base-cased')\n",
    "tokenizer.encode_plus(beer_Aroma_dev_noise.loc[3,'text'])"
   ]
  },
  {
   "cell_type": "code",
   "execution_count": 144,
   "metadata": {},
   "outputs": [
    {
     "data": {
      "text/html": [
       "<div>\n",
       "<style scoped>\n",
       "    .dataframe tbody tr th:only-of-type {\n",
       "        vertical-align: middle;\n",
       "    }\n",
       "\n",
       "    .dataframe tbody tr th {\n",
       "        vertical-align: top;\n",
       "    }\n",
       "\n",
       "    .dataframe thead th {\n",
       "        text-align: right;\n",
       "    }\n",
       "</style>\n",
       "<table border=\"1\" class=\"dataframe\">\n",
       "  <thead>\n",
       "    <tr style=\"text-align: right;\">\n",
       "      <th></th>\n",
       "      <th>task</th>\n",
       "      <th>label</th>\n",
       "      <th>text</th>\n",
       "      <th>rationale</th>\n",
       "      <th>pred_att</th>\n",
       "      <th>gold_att</th>\n",
       "      <th>rat_frequency</th>\n",
       "      <th>labels</th>\n",
       "    </tr>\n",
       "  </thead>\n",
       "  <tbody>\n",
       "    <tr>\n",
       "      <th>1</th>\n",
       "      <td>beer0</td>\n",
       "      <td>0</td>\n",
       "      <td>22oz bottle . a . no head . straw , slightly o...</td>\n",
       "      <td>0 0 0 1 1 1 1 1 1 1 1 1 1 1 1 1 0 0 0 0 0 0 0 ...</td>\n",
       "      <td>0 0 0 0 0 0 0 0 0 0 0 0 0 0 0 0 0 0 0 0 0 0 0 ...</td>\n",
       "      <td>0 0 0 0 0 0 0 0 0 0 0 0 0 0 0 0 0 0 0 0 0 0 0 ...</td>\n",
       "      <td>0.0000 0.1429 0.1364 0.2773 0.1364 0.3866 0.91...</td>\n",
       "      <td>0</td>\n",
       "    </tr>\n",
       "    <tr>\n",
       "      <th>2</th>\n",
       "      <td>beer0</td>\n",
       "      <td>0</td>\n",
       "      <td>pours a clear straw yellow with a typical whit...</td>\n",
       "      <td>1 1 1 1 1 1 1 1 1 1 1 1 1 1 1 1 1 1 1 1 1 1 1 ...</td>\n",
       "      <td>0 0 0 0 0 0 0 0 0 0 0 0 0 0 0 0 0 0 0 0 0 0 0 ...</td>\n",
       "      <td>0 0 0 0 0 0 0 0 0 0 0 0 0 0 0 0 0 0 0 0 0 0 0 ...</td>\n",
       "      <td>1.0000 0.2773 0.8571 1.0000 0.9487 0.3029 0.27...</td>\n",
       "      <td>0</td>\n",
       "    </tr>\n",
       "    <tr>\n",
       "      <th>3</th>\n",
       "      <td>beer0</td>\n",
       "      <td>1</td>\n",
       "      <td>33cl bottle with a bbd of july '11 . pours a h...</td>\n",
       "      <td>0 0 0 0 0 0 0 0 0 1 1 1 1 1 1 1 1 1 1 1 1 1 1 ...</td>\n",
       "      <td>0 0 0 0 0 0 0 0 0 0 0 0 0 0 0 0 0 0 0 0 0 0 0 ...</td>\n",
       "      <td>0 0 0 0 0 0 0 0 0 0 0 0 0 0 0 0 0 0 0 0 0 0 0 ...</td>\n",
       "      <td>0.0000 0.1429 0.3029 0.2773 0.0000 0.1618 0.00...</td>\n",
       "      <td>1</td>\n",
       "    </tr>\n",
       "    <tr>\n",
       "      <th>11</th>\n",
       "      <td>beer0</td>\n",
       "      <td>0</td>\n",
       "      <td>ca n't explain this atrocity . just god awful ...</td>\n",
       "      <td>0 0 0 0 0 0 1 1 1 1 1 1 1 1 1 0 0 0 0 0 0 0 0 ...</td>\n",
       "      <td>0 0 0 0 0 0 0 0 0 0 0 0 0 0 0 0 0 0 0 0 0 0 0 ...</td>\n",
       "      <td>0 0 0 0 0 0 0 0 0 0 0 0 0 0 0 0 0 0 0 0 0 0 0 ...</td>\n",
       "      <td>0.0588 0.0762 0.0000 0.1053 0.0000 0.1364 0.12...</td>\n",
       "      <td>0</td>\n",
       "    </tr>\n",
       "    <tr>\n",
       "      <th>13</th>\n",
       "      <td>beer0</td>\n",
       "      <td>0</td>\n",
       "      <td>just a beer . on tap at the hockey rink , when...</td>\n",
       "      <td>0 0 0 0 0 0 0 0 0 0 0 0 0 0 0 0 0 0 0 0 0 0 0 ...</td>\n",
       "      <td>0 0 0 0 0 0 0 0 0 0 0 0 0 0 0 0 0 0 0 0 0 0 0 ...</td>\n",
       "      <td>0 0 0 0 0 0 0 0 0 0 0 0 0 0 0 0 0 0 0 0 0 0 0 ...</td>\n",
       "      <td>0.1250 0.2773 0.1926 0.1364 0.0841 0.0000 0.10...</td>\n",
       "      <td>0</td>\n",
       "    </tr>\n",
       "    <tr>\n",
       "      <th>...</th>\n",
       "      <td>...</td>\n",
       "      <td>...</td>\n",
       "      <td>...</td>\n",
       "      <td>...</td>\n",
       "      <td>...</td>\n",
       "      <td>...</td>\n",
       "      <td>...</td>\n",
       "      <td>...</td>\n",
       "    </tr>\n",
       "    <tr>\n",
       "      <th>190</th>\n",
       "      <td>beer0</td>\n",
       "      <td>1</td>\n",
       "      <td>presentation : 12 oz brown long neck with a sa...</td>\n",
       "      <td>0 0 0 0 0 0 0 0 0 0 0 0 0 0 0 0 0 0 0 1 1 1 1 ...</td>\n",
       "      <td>0 0 0 0 0 0 0 0 0 0 0 0 0 0 0 0 0 0 0 0 0 0 0 ...</td>\n",
       "      <td>0 0 0 0 0 0 0 0 0 0 0 0 0 0 0 0 0 0 0 0 0 0 0 ...</td>\n",
       "      <td>0.5000 0.1963 0.1000 0.1111 0.6486 0.5000 0.00...</td>\n",
       "      <td>1</td>\n",
       "    </tr>\n",
       "    <tr>\n",
       "      <th>192</th>\n",
       "      <td>beer0</td>\n",
       "      <td>1</td>\n",
       "      <td>12oz bottle into a pint glass . a - deep amber...</td>\n",
       "      <td>0 0 0 0 0 0 0 1 1 1 1 1 1 1 1 1 1 1 1 1 1 1 1 ...</td>\n",
       "      <td>0 0 0 0 0 0 0 0 0 0 0 0 0 0 0 0 0 0 0 0 0 0 0 ...</td>\n",
       "      <td>0 0 0 0 0 0 0 0 0 0 0 0 0 0 0 0 0 0 0 0 0 0 0 ...</td>\n",
       "      <td>0.0000 0.1429 0.2826 0.2773 0.0714 0.4677 0.13...</td>\n",
       "      <td>1</td>\n",
       "    </tr>\n",
       "    <tr>\n",
       "      <th>193</th>\n",
       "      <td>beer0</td>\n",
       "      <td>0</td>\n",
       "      <td>this was horrific . corn and adjcunts aplenty ...</td>\n",
       "      <td>1 1 1 0 0 0 0 0 0 0 0 0 0 0 0 0 0 0 0 0 0 0 0 ...</td>\n",
       "      <td>0 0 0 0 0 0 0 0 0 0 0 0 0 0 0 0 0 0 0 0 0 0 0 ...</td>\n",
       "      <td>0 0 0 0 0 0 0 0 0 0 0 0 0 0 0 0 0 0 0 0 0 0 0 ...</td>\n",
       "      <td>0.1053 0.2033 1.0000 0.1364 0.0625 0.1198 0.00...</td>\n",
       "      <td>0</td>\n",
       "    </tr>\n",
       "    <tr>\n",
       "      <th>195</th>\n",
       "      <td>beer0</td>\n",
       "      <td>0</td>\n",
       "      <td>a better than average macro lager , or `` food...</td>\n",
       "      <td>1 1 1 1 1 1 1 1 1 1 1 0 0 0 0 0 0 0 0 0 0 0 0 ...</td>\n",
       "      <td>0 0 0 0 0 0 0 0 0 0 0 0 0 0 0 0 0 0 0 0 0 0 0 ...</td>\n",
       "      <td>0 0 0 0 0 0 0 0 0 0 0 0 0 0 0 0 0 0 0 0 0 0 0 ...</td>\n",
       "      <td>0.2773 0.0333 0.2000 0.3000 0.4286 0.2903 0.14...</td>\n",
       "      <td>0</td>\n",
       "    </tr>\n",
       "    <tr>\n",
       "      <th>198</th>\n",
       "      <td>beer0</td>\n",
       "      <td>1</td>\n",
       "      <td>new penny in color . i 'm sorry , forgive me ,...</td>\n",
       "      <td>1 1 1 1 1 0 0 0 0 0 0 0 0 0 0 0 0 0 0 0 0 0 0 ...</td>\n",
       "      <td>0 0 0 0 0 0 0 0 0 0 0 0 0 0 0 0 0 0 0 0 0 0 0 ...</td>\n",
       "      <td>0 0 0 0 0 0 0 0 0 0 0 0 0 0 0 0 0 0 0 0 0 0 0 ...</td>\n",
       "      <td>0.3333 1.0000 0.1422 0.9667 0.1364 0.0516 0.03...</td>\n",
       "      <td>1</td>\n",
       "    </tr>\n",
       "  </tbody>\n",
       "</table>\n",
       "<p>110 rows × 8 columns</p>\n",
       "</div>"
      ],
      "text/plain": [
       "      task  label                                               text  \\\n",
       "1    beer0      0  22oz bottle . a . no head . straw , slightly o...   \n",
       "2    beer0      0  pours a clear straw yellow with a typical whit...   \n",
       "3    beer0      1  33cl bottle with a bbd of july '11 . pours a h...   \n",
       "11   beer0      0  ca n't explain this atrocity . just god awful ...   \n",
       "13   beer0      0  just a beer . on tap at the hockey rink , when...   \n",
       "..     ...    ...                                                ...   \n",
       "190  beer0      1  presentation : 12 oz brown long neck with a sa...   \n",
       "192  beer0      1  12oz bottle into a pint glass . a - deep amber...   \n",
       "193  beer0      0  this was horrific . corn and adjcunts aplenty ...   \n",
       "195  beer0      0  a better than average macro lager , or `` food...   \n",
       "198  beer0      1  new penny in color . i 'm sorry , forgive me ,...   \n",
       "\n",
       "                                             rationale  \\\n",
       "1    0 0 0 1 1 1 1 1 1 1 1 1 1 1 1 1 0 0 0 0 0 0 0 ...   \n",
       "2    1 1 1 1 1 1 1 1 1 1 1 1 1 1 1 1 1 1 1 1 1 1 1 ...   \n",
       "3    0 0 0 0 0 0 0 0 0 1 1 1 1 1 1 1 1 1 1 1 1 1 1 ...   \n",
       "11   0 0 0 0 0 0 1 1 1 1 1 1 1 1 1 0 0 0 0 0 0 0 0 ...   \n",
       "13   0 0 0 0 0 0 0 0 0 0 0 0 0 0 0 0 0 0 0 0 0 0 0 ...   \n",
       "..                                                 ...   \n",
       "190  0 0 0 0 0 0 0 0 0 0 0 0 0 0 0 0 0 0 0 1 1 1 1 ...   \n",
       "192  0 0 0 0 0 0 0 1 1 1 1 1 1 1 1 1 1 1 1 1 1 1 1 ...   \n",
       "193  1 1 1 0 0 0 0 0 0 0 0 0 0 0 0 0 0 0 0 0 0 0 0 ...   \n",
       "195  1 1 1 1 1 1 1 1 1 1 1 0 0 0 0 0 0 0 0 0 0 0 0 ...   \n",
       "198  1 1 1 1 1 0 0 0 0 0 0 0 0 0 0 0 0 0 0 0 0 0 0 ...   \n",
       "\n",
       "                                              pred_att  \\\n",
       "1    0 0 0 0 0 0 0 0 0 0 0 0 0 0 0 0 0 0 0 0 0 0 0 ...   \n",
       "2    0 0 0 0 0 0 0 0 0 0 0 0 0 0 0 0 0 0 0 0 0 0 0 ...   \n",
       "3    0 0 0 0 0 0 0 0 0 0 0 0 0 0 0 0 0 0 0 0 0 0 0 ...   \n",
       "11   0 0 0 0 0 0 0 0 0 0 0 0 0 0 0 0 0 0 0 0 0 0 0 ...   \n",
       "13   0 0 0 0 0 0 0 0 0 0 0 0 0 0 0 0 0 0 0 0 0 0 0 ...   \n",
       "..                                                 ...   \n",
       "190  0 0 0 0 0 0 0 0 0 0 0 0 0 0 0 0 0 0 0 0 0 0 0 ...   \n",
       "192  0 0 0 0 0 0 0 0 0 0 0 0 0 0 0 0 0 0 0 0 0 0 0 ...   \n",
       "193  0 0 0 0 0 0 0 0 0 0 0 0 0 0 0 0 0 0 0 0 0 0 0 ...   \n",
       "195  0 0 0 0 0 0 0 0 0 0 0 0 0 0 0 0 0 0 0 0 0 0 0 ...   \n",
       "198  0 0 0 0 0 0 0 0 0 0 0 0 0 0 0 0 0 0 0 0 0 0 0 ...   \n",
       "\n",
       "                                              gold_att  \\\n",
       "1    0 0 0 0 0 0 0 0 0 0 0 0 0 0 0 0 0 0 0 0 0 0 0 ...   \n",
       "2    0 0 0 0 0 0 0 0 0 0 0 0 0 0 0 0 0 0 0 0 0 0 0 ...   \n",
       "3    0 0 0 0 0 0 0 0 0 0 0 0 0 0 0 0 0 0 0 0 0 0 0 ...   \n",
       "11   0 0 0 0 0 0 0 0 0 0 0 0 0 0 0 0 0 0 0 0 0 0 0 ...   \n",
       "13   0 0 0 0 0 0 0 0 0 0 0 0 0 0 0 0 0 0 0 0 0 0 0 ...   \n",
       "..                                                 ...   \n",
       "190  0 0 0 0 0 0 0 0 0 0 0 0 0 0 0 0 0 0 0 0 0 0 0 ...   \n",
       "192  0 0 0 0 0 0 0 0 0 0 0 0 0 0 0 0 0 0 0 0 0 0 0 ...   \n",
       "193  0 0 0 0 0 0 0 0 0 0 0 0 0 0 0 0 0 0 0 0 0 0 0 ...   \n",
       "195  0 0 0 0 0 0 0 0 0 0 0 0 0 0 0 0 0 0 0 0 0 0 0 ...   \n",
       "198  0 0 0 0 0 0 0 0 0 0 0 0 0 0 0 0 0 0 0 0 0 0 0 ...   \n",
       "\n",
       "                                         rat_frequency  labels  \n",
       "1    0.0000 0.1429 0.1364 0.2773 0.1364 0.3866 0.91...       0  \n",
       "2    1.0000 0.2773 0.8571 1.0000 0.9487 0.3029 0.27...       0  \n",
       "3    0.0000 0.1429 0.3029 0.2773 0.0000 0.1618 0.00...       1  \n",
       "11   0.0588 0.0762 0.0000 0.1053 0.0000 0.1364 0.12...       0  \n",
       "13   0.1250 0.2773 0.1926 0.1364 0.0841 0.0000 0.10...       0  \n",
       "..                                                 ...     ...  \n",
       "190  0.5000 0.1963 0.1000 0.1111 0.6486 0.5000 0.00...       1  \n",
       "192  0.0000 0.1429 0.2826 0.2773 0.0714 0.4677 0.13...       1  \n",
       "193  0.1053 0.2033 1.0000 0.1364 0.0625 0.1198 0.00...       0  \n",
       "195  0.2773 0.0333 0.2000 0.3000 0.4286 0.2903 0.14...       0  \n",
       "198  0.3333 1.0000 0.1422 0.9667 0.1364 0.0516 0.03...       1  \n",
       "\n",
       "[110 rows x 8 columns]"
      ]
     },
     "execution_count": 144,
     "metadata": {},
     "output_type": "execute_result"
    }
   ],
   "source": [
    "beer_Look_test"
   ]
  },
  {
   "cell_type": "markdown",
   "metadata": {},
   "source": [
    "# Causal Synthetic "
   ]
  },
  {
   "cell_type": "code",
   "execution_count": 28,
   "metadata": {},
   "outputs": [],
   "source": [
    "def add_causal(raw_data,alpha):\n",
    "    data=raw_data.copy()\n",
    "    sym=np.random.binomial(1,0.5,len(data.index))\n",
    "    symbols=np.where(sym==1,',','.')\n",
    "    labels=data['labels'].to_numpy()\n",
    "    for i in range(len(data.index)):\n",
    "        data.loc[data.index[i],'text'] = symbols[i] +' '+data.loc[data.index[i],'text']\n",
    "        data.loc[data.index[i],'rationale']='1 '+data.loc[data.index[i],'rationale']\n",
    "        indi=np.random.binomial(1,alpha,1)\n",
    "        if symbols[i]==',' and labels[i]==1 and indi==1:\n",
    "                labels[i]=0\n",
    "        elif symbols[i]=='.' and labels[i]==0 and indi==1:\n",
    "                labels[i]=1\n",
    "    data['labels']=labels\n",
    "    return data"
   ]
  },
  {
   "cell_type": "code",
   "execution_count": 29,
   "metadata": {},
   "outputs": [],
   "source": [
    "alpha=0.4\n",
    "aspect=['Look','Aroma','Palate']\n",
    "mode=['train','dev','test']\n",
    "np.random.seed(0)\n",
    "\n",
    "for (aspect, mode) in list(itertools.product(aspect,mode)):\n",
    "    df=(globals()['beer_'+aspect+'_'+mode])\n",
    "    globals()['beer_'+aspect+'_'+mode+'_causal']=add_causal(df,alpha)\n",
    "    if mode in ('train', 'dev'):\n",
    "        path =  f'/home/cdsw/internship_project/code/rationale-robust/data/sentiment/data/source/beer_{aspect}.{mode}'\n",
    "    elif mode == 'test':\n",
    "        path =  f'/home/cdsw/internship_project/code/rationale-robust/data/sentiment/data/target/beer_{aspect}.train'\n",
    "    globals()['beer_'+aspect+'_'+mode+'_causal'].to_csv(path+'_causal',encoding='utf-8',sep='\\t',index=False)"
   ]
  },
  {
   "cell_type": "code",
   "execution_count": 33,
   "metadata": {},
   "outputs": [
    {
     "data": {
      "text/html": [
       "<div>\n",
       "<style scoped>\n",
       "    .dataframe tbody tr th:only-of-type {\n",
       "        vertical-align: middle;\n",
       "    }\n",
       "\n",
       "    .dataframe tbody tr th {\n",
       "        vertical-align: top;\n",
       "    }\n",
       "\n",
       "    .dataframe thead th {\n",
       "        text-align: right;\n",
       "    }\n",
       "</style>\n",
       "<table border=\"1\" class=\"dataframe\">\n",
       "  <thead>\n",
       "    <tr style=\"text-align: right;\">\n",
       "      <th></th>\n",
       "      <th>task</th>\n",
       "      <th>label</th>\n",
       "      <th>text</th>\n",
       "      <th>rationale</th>\n",
       "      <th>labels</th>\n",
       "    </tr>\n",
       "  </thead>\n",
       "  <tbody>\n",
       "    <tr>\n",
       "      <th>4</th>\n",
       "      <td>beer1</td>\n",
       "      <td>0.8</td>\n",
       "      <td>. 250ml screwtop bottle , poured into leffe ch...</td>\n",
       "      <td>1 0 0 0 0 0 0 0 0 0 0 0 0 0 0 0 0 0 0 0 1 1 1 ...</td>\n",
       "      <td>1</td>\n",
       "    </tr>\n",
       "    <tr>\n",
       "      <th>7</th>\n",
       "      <td>beer1</td>\n",
       "      <td>0.9</td>\n",
       "      <td>. appearance : deep brown color with a thin ta...</td>\n",
       "      <td>1 0 0 0 0 0 0 0 0 0 0 0 0 0 0 0 0 0 0 0 0 0 0 ...</td>\n",
       "      <td>1</td>\n",
       "    </tr>\n",
       "    <tr>\n",
       "      <th>11</th>\n",
       "      <td>beer1</td>\n",
       "      <td>0.9</td>\n",
       "      <td>. purchased at the lake merritt whole foods in...</td>\n",
       "      <td>1 0 0 0 0 0 0 0 0 0 0 0 0 0 0 0 0 0 0 0 0 0 0 ...</td>\n",
       "      <td>1</td>\n",
       "    </tr>\n",
       "    <tr>\n",
       "      <th>12</th>\n",
       "      <td>beer1</td>\n",
       "      <td>0.9</td>\n",
       "      <td>. pours clear amber with a small white head . ...</td>\n",
       "      <td>1 0 0 0 0 0 0 0 0 0 0 0 0 0 0 0 0 0 0 1 1 1 0 ...</td>\n",
       "      <td>1</td>\n",
       "    </tr>\n",
       "    <tr>\n",
       "      <th>13</th>\n",
       "      <td>beer1</td>\n",
       "      <td>0.2</td>\n",
       "      <td>. 12oz . bottle poured into a snifter . no bot...</td>\n",
       "      <td>1 0 0 0 0 0 0 0 0 0 0 0 0 0 0 0 0 0 0 0 0 0 0 ...</td>\n",
       "      <td>1</td>\n",
       "    </tr>\n",
       "    <tr>\n",
       "      <th>...</th>\n",
       "      <td>...</td>\n",
       "      <td>...</td>\n",
       "      <td>...</td>\n",
       "      <td>...</td>\n",
       "      <td>...</td>\n",
       "    </tr>\n",
       "    <tr>\n",
       "      <th>39803</th>\n",
       "      <td>beer1</td>\n",
       "      <td>0.6</td>\n",
       "      <td>. a somewhat thin porter , black as hell with ...</td>\n",
       "      <td>1 0 0 0 0 0 0 0 0 0 0 0 0 0 0 0 0 0 0 1 1 1 0 ...</td>\n",
       "      <td>1</td>\n",
       "    </tr>\n",
       "    <tr>\n",
       "      <th>39820</th>\n",
       "      <td>beer1</td>\n",
       "      <td>1.0</td>\n",
       "      <td>. a- cloudy merky orange amber color . good he...</td>\n",
       "      <td>1 0 0 0 0 0 0 0 0 0 0 0 0 0 0 0 0 0 0 0 0 0 0 ...</td>\n",
       "      <td>1</td>\n",
       "    </tr>\n",
       "    <tr>\n",
       "      <th>39822</th>\n",
       "      <td>beer1</td>\n",
       "      <td>0.8</td>\n",
       "      <td>, foamy head that retains its shape for a long...</td>\n",
       "      <td>1 0 0 0 0 0 0 0 0 0 0 0 0 0 0 0 0 0 0 0 0 0 0 ...</td>\n",
       "      <td>0</td>\n",
       "    </tr>\n",
       "    <tr>\n",
       "      <th>39823</th>\n",
       "      <td>beer1</td>\n",
       "      <td>0.8</td>\n",
       "      <td>, pours cloudy brownish red with no head . sme...</td>\n",
       "      <td>1 0 0 0 0 0 0 0 0 0 1 1 1 1 1 1 0 0 0 0 0 0 0 ...</td>\n",
       "      <td>0</td>\n",
       "    </tr>\n",
       "    <tr>\n",
       "      <th>39824</th>\n",
       "      <td>beer1</td>\n",
       "      <td>0.4</td>\n",
       "      <td>. poured a golden yellow with a one finger hea...</td>\n",
       "      <td>1 0 0 0 0 0 0 0 0 0 0 1 1 1 1 1 1 1 1 0 0 0 0 ...</td>\n",
       "      <td>1</td>\n",
       "    </tr>\n",
       "  </tbody>\n",
       "</table>\n",
       "<p>14085 rows × 5 columns</p>\n",
       "</div>"
      ],
      "text/plain": [
       "        task  label                                               text  \\\n",
       "4      beer1    0.8  . 250ml screwtop bottle , poured into leffe ch...   \n",
       "7      beer1    0.9  . appearance : deep brown color with a thin ta...   \n",
       "11     beer1    0.9  . purchased at the lake merritt whole foods in...   \n",
       "12     beer1    0.9  . pours clear amber with a small white head . ...   \n",
       "13     beer1    0.2  . 12oz . bottle poured into a snifter . no bot...   \n",
       "...      ...    ...                                                ...   \n",
       "39803  beer1    0.6  . a somewhat thin porter , black as hell with ...   \n",
       "39820  beer1    1.0  . a- cloudy merky orange amber color . good he...   \n",
       "39822  beer1    0.8  , foamy head that retains its shape for a long...   \n",
       "39823  beer1    0.8  , pours cloudy brownish red with no head . sme...   \n",
       "39824  beer1    0.4  . poured a golden yellow with a one finger hea...   \n",
       "\n",
       "                                               rationale  labels  \n",
       "4      1 0 0 0 0 0 0 0 0 0 0 0 0 0 0 0 0 0 0 0 1 1 1 ...       1  \n",
       "7      1 0 0 0 0 0 0 0 0 0 0 0 0 0 0 0 0 0 0 0 0 0 0 ...       1  \n",
       "11     1 0 0 0 0 0 0 0 0 0 0 0 0 0 0 0 0 0 0 0 0 0 0 ...       1  \n",
       "12     1 0 0 0 0 0 0 0 0 0 0 0 0 0 0 0 0 0 0 1 1 1 0 ...       1  \n",
       "13     1 0 0 0 0 0 0 0 0 0 0 0 0 0 0 0 0 0 0 0 0 0 0 ...       1  \n",
       "...                                                  ...     ...  \n",
       "39803  1 0 0 0 0 0 0 0 0 0 0 0 0 0 0 0 0 0 0 1 1 1 0 ...       1  \n",
       "39820  1 0 0 0 0 0 0 0 0 0 0 0 0 0 0 0 0 0 0 0 0 0 0 ...       1  \n",
       "39822  1 0 0 0 0 0 0 0 0 0 0 0 0 0 0 0 0 0 0 0 0 0 0 ...       0  \n",
       "39823  1 0 0 0 0 0 0 0 0 0 1 1 1 1 1 1 0 0 0 0 0 0 0 ...       0  \n",
       "39824  1 0 0 0 0 0 0 0 0 0 0 1 1 1 1 1 1 1 1 0 0 0 0 ...       1  \n",
       "\n",
       "[14085 rows x 5 columns]"
      ]
     },
     "execution_count": 33,
     "metadata": {},
     "output_type": "execute_result"
    }
   ],
   "source": [
    "beer_Aroma_train_causal"
   ]
  },
  {
   "cell_type": "code",
   "execution_count": 14,
   "metadata": {},
   "outputs": [
    {
     "data": {
      "text/html": [
       "<div>\n",
       "<style scoped>\n",
       "    .dataframe tbody tr th:only-of-type {\n",
       "        vertical-align: middle;\n",
       "    }\n",
       "\n",
       "    .dataframe tbody tr th {\n",
       "        vertical-align: top;\n",
       "    }\n",
       "\n",
       "    .dataframe thead th {\n",
       "        text-align: right;\n",
       "    }\n",
       "</style>\n",
       "<table border=\"1\" class=\"dataframe\">\n",
       "  <thead>\n",
       "    <tr style=\"text-align: right;\">\n",
       "      <th></th>\n",
       "      <th>task</th>\n",
       "      <th>label</th>\n",
       "      <th>text</th>\n",
       "      <th>rationale</th>\n",
       "      <th>labels</th>\n",
       "    </tr>\n",
       "  </thead>\n",
       "  <tbody>\n",
       "    <tr>\n",
       "      <th>0</th>\n",
       "      <td>beer0</td>\n",
       "      <td>0.3</td>\n",
       "      <td>the main problem with this beer is that it has...</td>\n",
       "      <td>0 0 0 0 0 0 0 0 0 0 0 0 0 0 0 0 0 0 0 0 0 0 0 ...</td>\n",
       "      <td>0</td>\n",
       "    </tr>\n",
       "    <tr>\n",
       "      <th>1</th>\n",
       "      <td>beer0</td>\n",
       "      <td>0.8</td>\n",
       "      <td>appearance is a light golden yellow with a thi...</td>\n",
       "      <td>1 1 1 1 1 1 1 1 1 1 1 1 1 1 1 1 1 1 1 0 0 0 0 ...</td>\n",
       "      <td>1</td>\n",
       "    </tr>\n",
       "    <tr>\n",
       "      <th>2</th>\n",
       "      <td>beer0</td>\n",
       "      <td>0.9</td>\n",
       "      <td>it has a great color to the body . this beer p...</td>\n",
       "      <td>0 0 1 1 1 0 0 0 0 0 0 0 0 1 1 1 0 0 0 0 0 1 1 ...</td>\n",
       "      <td>1</td>\n",
       "    </tr>\n",
       "    <tr>\n",
       "      <th>5</th>\n",
       "      <td>beer0</td>\n",
       "      <td>0.6</td>\n",
       "      <td>vintage 07 batch 3 poured into chimay chalice ...</td>\n",
       "      <td>0 0 0 0 0 0 0 0 0 0 0 0 1 1 1 0 0 0 0 0 0 0 0 ...</td>\n",
       "      <td>1</td>\n",
       "    </tr>\n",
       "    <tr>\n",
       "      <th>7</th>\n",
       "      <td>beer0</td>\n",
       "      <td>0.4</td>\n",
       "      <td>got a 12 pack of this for $ 10.99 this beer is...</td>\n",
       "      <td>0 0 0 0 0 0 0 0 0 0 0 0 1 1 1 1 1 1 1 1 1 1 0 ...</td>\n",
       "      <td>0</td>\n",
       "    </tr>\n",
       "    <tr>\n",
       "      <th>...</th>\n",
       "      <td>...</td>\n",
       "      <td>...</td>\n",
       "      <td>...</td>\n",
       "      <td>...</td>\n",
       "      <td>...</td>\n",
       "    </tr>\n",
       "    <tr>\n",
       "      <th>43338</th>\n",
       "      <td>beer0</td>\n",
       "      <td>0.8</td>\n",
       "      <td>this beer pours with a light head and the prod...</td>\n",
       "      <td>0 0 0 0 0 0 0 0 0 0 0 0 1 1 1 1 0 0 0 0 0 0 0 ...</td>\n",
       "      <td>1</td>\n",
       "    </tr>\n",
       "    <tr>\n",
       "      <th>43347</th>\n",
       "      <td>beer0</td>\n",
       "      <td>0.6</td>\n",
       "      <td>pours muddy light brown with very little head ...</td>\n",
       "      <td>1 1 1 1 1 1 1 1 1 1 1 1 1 1 1 1 1 1 1 1 1 0 0 ...</td>\n",
       "      <td>1</td>\n",
       "    </tr>\n",
       "    <tr>\n",
       "      <th>43348</th>\n",
       "      <td>beer0</td>\n",
       "      <td>1.0</td>\n",
       "      <td>poured from a nitro style can , dark black wit...</td>\n",
       "      <td>0 0 1 1 1 1 1 1 1 1 1 1 1 1 1 1 1 1 1 1 1 1 1 ...</td>\n",
       "      <td>1</td>\n",
       "    </tr>\n",
       "    <tr>\n",
       "      <th>43349</th>\n",
       "      <td>beer0</td>\n",
       "      <td>0.4</td>\n",
       "      <td>yeah , this shit 's ok . the blue and the red ...</td>\n",
       "      <td>0 0 1 1 1 1 1 1 1 1 1 1 1 0 0 0 0 0 0 1 1 1 1 ...</td>\n",
       "      <td>0</td>\n",
       "    </tr>\n",
       "    <tr>\n",
       "      <th>43350</th>\n",
       "      <td>beer0</td>\n",
       "      <td>0.6</td>\n",
       "      <td>pours with no carb , hazy ruby with bubbles ri...</td>\n",
       "      <td>0 1 1 1 1 1 1 1 1 1 0 0 0 0 0 0 0 0 0 0 0 0 0 ...</td>\n",
       "      <td>1</td>\n",
       "    </tr>\n",
       "  </tbody>\n",
       "</table>\n",
       "<p>15932 rows × 5 columns</p>\n",
       "</div>"
      ],
      "text/plain": [
       "        task  label                                               text  \\\n",
       "0      beer0    0.3  the main problem with this beer is that it has...   \n",
       "1      beer0    0.8  appearance is a light golden yellow with a thi...   \n",
       "2      beer0    0.9  it has a great color to the body . this beer p...   \n",
       "5      beer0    0.6  vintage 07 batch 3 poured into chimay chalice ...   \n",
       "7      beer0    0.4  got a 12 pack of this for $ 10.99 this beer is...   \n",
       "...      ...    ...                                                ...   \n",
       "43338  beer0    0.8  this beer pours with a light head and the prod...   \n",
       "43347  beer0    0.6  pours muddy light brown with very little head ...   \n",
       "43348  beer0    1.0  poured from a nitro style can , dark black wit...   \n",
       "43349  beer0    0.4  yeah , this shit 's ok . the blue and the red ...   \n",
       "43350  beer0    0.6  pours with no carb , hazy ruby with bubbles ri...   \n",
       "\n",
       "                                               rationale  labels  \n",
       "0      0 0 0 0 0 0 0 0 0 0 0 0 0 0 0 0 0 0 0 0 0 0 0 ...       0  \n",
       "1      1 1 1 1 1 1 1 1 1 1 1 1 1 1 1 1 1 1 1 0 0 0 0 ...       1  \n",
       "2      0 0 1 1 1 0 0 0 0 0 0 0 0 1 1 1 0 0 0 0 0 1 1 ...       1  \n",
       "5      0 0 0 0 0 0 0 0 0 0 0 0 1 1 1 0 0 0 0 0 0 0 0 ...       1  \n",
       "7      0 0 0 0 0 0 0 0 0 0 0 0 1 1 1 1 1 1 1 1 1 1 0 ...       0  \n",
       "...                                                  ...     ...  \n",
       "43338  0 0 0 0 0 0 0 0 0 0 0 0 1 1 1 1 0 0 0 0 0 0 0 ...       1  \n",
       "43347  1 1 1 1 1 1 1 1 1 1 1 1 1 1 1 1 1 1 1 1 1 0 0 ...       1  \n",
       "43348  0 0 1 1 1 1 1 1 1 1 1 1 1 1 1 1 1 1 1 1 1 1 1 ...       1  \n",
       "43349  0 0 1 1 1 1 1 1 1 1 1 1 1 0 0 0 0 0 0 1 1 1 1 ...       0  \n",
       "43350  0 1 1 1 1 1 1 1 1 1 0 0 0 0 0 0 0 0 0 0 0 0 0 ...       1  \n",
       "\n",
       "[15932 rows x 5 columns]"
      ]
     },
     "execution_count": 14,
     "metadata": {},
     "output_type": "execute_result"
    }
   ],
   "source": [
    "beer_Look_train"
   ]
  },
  {
   "cell_type": "code",
   "execution_count": 132,
   "metadata": {},
   "outputs": [
    {
     "data": {
      "text/plain": [
       "'1 0 0 0 0 0 0 0 0 0 0 0 0 0 0 0 0 0 0 0 0 0 0 0 1 1 1 1 0 0 0 0 0 0 0 0 0 0 0 0 0 0 0 0 0 0 0 0 0 0 0 0 0 0 0 0 0 0 0 0 0 0 0'"
      ]
     },
     "execution_count": 132,
     "metadata": {},
     "output_type": "execute_result"
    }
   ],
   "source": [
    "beer_Look_train.loc[beer_Look_train.index[0],'rationale']"
   ]
  },
  {
   "cell_type": "code",
   "execution_count": null,
   "metadata": {},
   "outputs": [],
   "source": []
  }
 ],
 "metadata": {
  "kernelspec": {
   "display_name": "conda_pytorch_p38",
   "language": "python",
   "name": "conda_pytorch_p38"
  },
  "language_info": {
   "codemirror_mode": {
    "name": "ipython",
    "version": 3
   },
   "file_extension": ".py",
   "mimetype": "text/x-python",
   "name": "python",
   "nbconvert_exporter": "python",
   "pygments_lexer": "ipython3",
   "version": "3.8.12"
  }
 },
 "nbformat": 4,
 "nbformat_minor": 4
}
