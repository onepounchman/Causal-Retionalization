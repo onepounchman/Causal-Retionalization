{
 "cells": [
  {
   "cell_type": "code",
   "execution_count": 4,
   "metadata": {},
   "outputs": [],
   "source": [
    "import os \n",
    "from pathlib import Path\n",
    "import pandas as pd\n",
    "import numpy as np\n",
    "import itertools\n",
    "import matplotlib.pyplot as plt"
   ]
  },
  {
   "cell_type": "markdown",
   "metadata": {},
   "source": [
    "# Get short-version beer data (maximum length 120)"
   ]
  },
  {
   "cell_type": "code",
   "execution_count": 5,
   "metadata": {},
   "outputs": [
    {
     "name": "stdout",
     "output_type": "stream",
     "text": [
      "beer Look train: number of short samples:15932\n",
      "beer Look train: number of positive samples:11807, number of negative samples:4125, total:15932\n",
      "beer Look dev: number of short samples:3757\n",
      "beer Look dev: number of positive samples:2794, number of negative samples:963, total:3757\n",
      "beer Look test: number of short samples:200\n",
      "beer Look test: number of positive samples:100, number of negative samples:100, total:200\n",
      "beer Aroma train: number of short samples:14085\n",
      "beer Aroma train: number of positive samples:10317, number of negative samples:3768, total:14085\n",
      "beer Aroma dev: number of short samples:2928\n",
      "beer Aroma dev: number of positive samples:2168, number of negative samples:760, total:2928\n",
      "beer Aroma test: number of short samples:200\n",
      "beer Aroma test: number of positive samples:100, number of negative samples:100, total:200\n",
      "beer Palate train: number of short samples:9592\n",
      "beer Palate train: number of positive samples:7990, number of negative samples:1602, total:9592\n",
      "beer Palate dev: number of short samples:2294\n",
      "beer Palate dev: number of positive samples:1924, number of negative samples:370, total:2294\n",
      "beer Palate test: number of short samples:200\n",
      "beer Palate test: number of positive samples:100, number of negative samples:100, total:200\n"
     ]
    }
   ],
   "source": [
    "aspect=['Look','Aroma','Palate']\n",
    "mode=['train','dev','test']\n",
    "\n",
    "len_text_look=0\n",
    "len_text_aroma=0\n",
    "len_text_palate=0\n",
    "for (aspect, mode) in list(itertools.product(aspect,mode)):\n",
    "    if mode in ('train', 'dev'):\n",
    "        path =  f'/home/ec2-user/SageMaker/rationale-causal/data/sentiment/data/source/beer_{aspect}.{mode}'\n",
    "    elif mode == 'test':\n",
    "        path =  f'/home/ec2-user/SageMaker/rationale-causal/data/sentiment/data/target/beer_{aspect}.train'\n",
    "    df = pd.read_csv(path, delimiter='\\t')\n",
    "    indexs=[]\n",
    "    labels=[]\n",
    "    for index, row in df.iterrows():\n",
    "            text = row['text'].split()\n",
    "            if len(text)<=120 or mode=='test':\n",
    "                label = row['label']\n",
    "                # this could be applied to both beer and hotel\n",
    "                if label >= 0.6:\n",
    "                    label = 1  # pos\n",
    "                    labels.append(label) \n",
    "                    indexs.append(index)\n",
    "                    if aspect=='Look':\n",
    "                        len_text_look+=len(text)\n",
    "                    elif aspect=='Aroma':\n",
    "                        len_text_aroma+=len(text)\n",
    "                    elif aspect=='Palate':\n",
    "                        len_text_palate+=len(text)\n",
    "                elif label <= 0.4:\n",
    "                    label = 0  # neg\n",
    "                    labels.append(label)\n",
    "                    indexs.append(index)\n",
    "                    if aspect=='Look':\n",
    "                        len_text_look+=len(text)\n",
    "                    elif aspect=='Aroma':\n",
    "                        len_text_aroma+=len(text)\n",
    "                    elif aspect=='Palate':\n",
    "                        len_text_palate+=len(text)\n",
    "                else:\n",
    "                    continue   \n",
    "\n",
    "\n",
    "    \n",
    "    df=df.iloc[indexs]\n",
    "    df['labels']=labels\n",
    "    globals()['beer_'+aspect+'_'+mode]=df\n",
    "    print(f'beer {aspect} {mode}: number of short samples:{len(df.index)}')\n",
    "    print(f'beer {aspect} {mode}: number of positive samples:{sum(labels)}, number of negative samples:{len(labels)-sum(labels)}, total:{len(labels)}')\n",
    "\n",
    "    \n"
   ]
  },
  {
   "cell_type": "markdown",
   "metadata": {},
   "source": [
    "# Get noise-version beer data (add spurious correlation) "
   ]
  },
  {
   "cell_type": "code",
   "execution_count": 6,
   "metadata": {},
   "outputs": [],
   "source": [
    "def add_noise(raw_data,alpha,mode):\n",
    "    data=raw_data.copy()\n",
    "    labels=data['labels'].to_numpy()\n",
    "    if mode=='test':\n",
    "        alpha=1-alpha\n",
    "    else:\n",
    "        alpha=alpha\n",
    "    for i in range(len(data.index)):\n",
    "        indi=np.random.binomial(1,alpha,1)\n",
    "        data.loc[data.index[i],'rationale']='0 '+data.loc[data.index[i],'rationale']\n",
    "        if indi==1:\n",
    "            if labels[i]==1:\n",
    "                    data.loc[data.index[i],'text']=', '+data.loc[data.index[i],'text']\n",
    "            else:\n",
    "                    data.loc[data.index[i],'text']='. '+data.loc[data.index[i],'text']\n",
    "        else:\n",
    "            if labels[i]==1:\n",
    "                    data.loc[data.index[i],'text']='. '+data.loc[data.index[i],'text']\n",
    "            else:\n",
    "                    data.loc[data.index[i],'text']=', '+data.loc[data.index[i],'text']\n",
    "    return data\n",
    "\n"
   ]
  },
  {
   "cell_type": "code",
   "execution_count": 7,
   "metadata": {},
   "outputs": [],
   "source": [
    "alpha=0.8\n",
    "aspect=['Aroma','Palate']\n",
    "mode=['train','dev']\n",
    "np.random.seed(0)\n",
    "for (aspect, mode) in list(itertools.product(aspect,mode)):\n",
    "    df=(globals()['beer_'+aspect+'_'+mode])\n",
    "    globals()['beer_'+aspect+'_'+mode+'_noise']=add_noise(df,alpha,mode)\n",
    "    if mode in ('train', 'dev'):\n",
    "        path =  f'/home/ec2-user/SageMaker/Causal-Rationale/rationale-causal/data/sentiment/data/source/beer_{aspect}.{mode}'\n",
    "    globals()['beer_'+aspect+'_'+mode+'_noise'].to_csv(path+'_noise',encoding='utf-8',sep='\\t',index=False)"
   ]
  }
 ],
 "metadata": {
  "kernelspec": {
   "display_name": "conda_amazonei_pytorch_latest_p37",
   "language": "python",
   "name": "conda_amazonei_pytorch_latest_p37"
  },
  "language_info": {
   "codemirror_mode": {
    "name": "ipython",
    "version": 3
   },
   "file_extension": ".py",
   "mimetype": "text/x-python",
   "name": "python",
   "nbconvert_exporter": "python",
   "pygments_lexer": "ipython3",
   "version": "3.7.10"
  }
 },
 "nbformat": 4,
 "nbformat_minor": 4
}
